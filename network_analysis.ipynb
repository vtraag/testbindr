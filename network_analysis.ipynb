{
 "cells": [
  {
   "cell_type": "code",
   "execution_count": 1,
   "metadata": {
    "collapsed": true
   },
   "outputs": [],
   "source": [
    "import igraph as ig"
   ]
  },
  {
   "cell_type": "code",
   "execution_count": 2,
   "metadata": {
    "collapsed": true
   },
   "outputs": [],
   "source": [
    "G = ig.Graph.Famous('Zachary')"
   ]
  },
  {
   "cell_type": "code",
   "execution_count": 3,
   "metadata": {},
   "outputs": [
    {
     "data": {
      "image/svg+xml": [
       "<?xml version=\"1.0\" encoding=\"UTF-8\"?>\n",
       "<svg xmlns=\"http://www.w3.org/2000/svg\" xmlns:xlink=\"http://www.w3.org/1999/xlink\" width=\"600pt\" height=\"600pt\" viewBox=\"0 0 600 600\" version=\"1.1\">\n",
       "<g id=\"surface2\">\n",
       "<rect x=\"0\" y=\"0\" width=\"600\" height=\"600\" style=\"fill:rgb(100%,100%,100%);fill-opacity:1;stroke:none;\"/>\n",
       "<path style=\"fill:none;stroke-width:1;stroke-linecap:butt;stroke-linejoin:miter;stroke:rgb(20%,20%,20%);stroke-opacity:1;stroke-miterlimit:10;\" d=\"M 382.507813 252.511719 L 395.859375 305.929688 \"/>\n",
       "<path style=\"fill:none;stroke-width:1;stroke-linecap:butt;stroke-linejoin:miter;stroke:rgb(20%,20%,20%);stroke-opacity:1;stroke-miterlimit:10;\" d=\"M 382.507813 252.511719 L 330.699219 368.210938 \"/>\n",
       "<path style=\"fill:none;stroke-width:1;stroke-linecap:butt;stroke-linejoin:miter;stroke:rgb(20%,20%,20%);stroke-opacity:1;stroke-miterlimit:10;\" d=\"M 382.507813 252.511719 L 470.570313 325.519531 \"/>\n",
       "<path style=\"fill:none;stroke-width:1;stroke-linecap:butt;stroke-linejoin:miter;stroke:rgb(80%,80%,80%);stroke-opacity:1;stroke-miterlimit:10;\" d=\"M 382.507813 252.511719 L 291.046875 122.910156 \"/>\n",
       "<path style=\"fill:none;stroke-width:1;stroke-linecap:butt;stroke-linejoin:miter;stroke:rgb(80%,80%,80%);stroke-opacity:1;stroke-miterlimit:10;\" d=\"M 382.507813 252.511719 L 485.023438 145.277344 \"/>\n",
       "<path style=\"fill:none;stroke-width:1;stroke-linecap:butt;stroke-linejoin:miter;stroke:rgb(80%,80%,80%);stroke-opacity:1;stroke-miterlimit:10;\" d=\"M 382.507813 252.511719 L 405.648438 113.058594 \"/>\n",
       "<path style=\"fill:none;stroke-width:1;stroke-linecap:butt;stroke-linejoin:miter;stroke:rgb(20%,20%,20%);stroke-opacity:1;stroke-miterlimit:10;\" d=\"M 382.507813 252.511719 L 487.550781 372.578125 \"/>\n",
       "<path style=\"fill:none;stroke-width:1;stroke-linecap:butt;stroke-linejoin:miter;stroke:rgb(80%,80%,80%);stroke-opacity:1;stroke-miterlimit:10;\" d=\"M 382.507813 252.511719 L 278.460938 362.019531 \"/>\n",
       "<path style=\"fill:none;stroke-width:1;stroke-linecap:butt;stroke-linejoin:miter;stroke:rgb(80%,80%,80%);stroke-opacity:1;stroke-miterlimit:10;\" d=\"M 382.507813 252.511719 L 376.824219 141.023438 \"/>\n",
       "<path style=\"fill:none;stroke-width:1;stroke-linecap:butt;stroke-linejoin:miter;stroke:rgb(20%,20%,20%);stroke-opacity:1;stroke-miterlimit:10;\" d=\"M 382.507813 252.511719 L 580 293 \"/>\n",
       "<path style=\"fill:none;stroke-width:1;stroke-linecap:butt;stroke-linejoin:miter;stroke:rgb(20%,20%,20%);stroke-opacity:1;stroke-miterlimit:10;\" d=\"M 382.507813 252.511719 L 559.472656 243.292969 \"/>\n",
       "<path style=\"fill:none;stroke-width:1;stroke-linecap:butt;stroke-linejoin:miter;stroke:rgb(20%,20%,20%);stroke-opacity:1;stroke-miterlimit:10;\" d=\"M 382.507813 252.511719 L 388.070313 394.414063 \"/>\n",
       "<path style=\"fill:none;stroke-width:1;stroke-linecap:butt;stroke-linejoin:miter;stroke:rgb(20%,20%,20%);stroke-opacity:1;stroke-miterlimit:10;\" d=\"M 382.507813 252.511719 L 301.570313 181.332031 \"/>\n",
       "<path style=\"fill:none;stroke-width:1;stroke-linecap:butt;stroke-linejoin:miter;stroke:rgb(20%,20%,20%);stroke-opacity:1;stroke-miterlimit:10;\" d=\"M 382.507813 252.511719 L 272.125 310.546875 \"/>\n",
       "<path style=\"fill:none;stroke-width:1;stroke-linecap:butt;stroke-linejoin:miter;stroke:rgb(20%,20%,20%);stroke-opacity:1;stroke-miterlimit:10;\" d=\"M 382.507813 252.511719 L 504.359375 220.242188 \"/>\n",
       "<path style=\"fill:none;stroke-width:1;stroke-linecap:butt;stroke-linejoin:miter;stroke:rgb(80%,80%,80%);stroke-opacity:1;stroke-miterlimit:10;\" d=\"M 382.507813 252.511719 L 200.519531 303.695313 \"/>\n",
       "<path style=\"fill:none;stroke-width:1;stroke-linecap:butt;stroke-linejoin:miter;stroke:rgb(20%,20%,20%);stroke-opacity:1;stroke-miterlimit:10;\" d=\"M 395.859375 305.929688 L 330.699219 368.210938 \"/>\n",
       "<path style=\"fill:none;stroke-width:1;stroke-linecap:butt;stroke-linejoin:miter;stroke:rgb(20%,20%,20%);stroke-opacity:1;stroke-miterlimit:10;\" d=\"M 395.859375 305.929688 L 470.570313 325.519531 \"/>\n",
       "<path style=\"fill:none;stroke-width:1;stroke-linecap:butt;stroke-linejoin:miter;stroke:rgb(20%,20%,20%);stroke-opacity:1;stroke-miterlimit:10;\" d=\"M 395.859375 305.929688 L 487.550781 372.578125 \"/>\n",
       "<path style=\"fill:none;stroke-width:1;stroke-linecap:butt;stroke-linejoin:miter;stroke:rgb(20%,20%,20%);stroke-opacity:1;stroke-miterlimit:10;\" d=\"M 395.859375 305.929688 L 388.070313 394.414063 \"/>\n",
       "<path style=\"fill:none;stroke-width:1;stroke-linecap:butt;stroke-linejoin:miter;stroke:rgb(20%,20%,20%);stroke-opacity:1;stroke-miterlimit:10;\" d=\"M 395.859375 305.929688 L 301.570313 181.332031 \"/>\n",
       "<path style=\"fill:none;stroke-width:1;stroke-linecap:butt;stroke-linejoin:miter;stroke:rgb(20%,20%,20%);stroke-opacity:1;stroke-miterlimit:10;\" d=\"M 395.859375 305.929688 L 272.125 310.546875 \"/>\n",
       "<path style=\"fill:none;stroke-width:1;stroke-linecap:butt;stroke-linejoin:miter;stroke:rgb(20%,20%,20%);stroke-opacity:1;stroke-miterlimit:10;\" d=\"M 395.859375 305.929688 L 504.359375 220.242188 \"/>\n",
       "<path style=\"fill:none;stroke-width:1;stroke-linecap:butt;stroke-linejoin:miter;stroke:rgb(80%,80%,80%);stroke-opacity:1;stroke-miterlimit:10;\" d=\"M 395.859375 305.929688 L 342.125 450.289063 \"/>\n",
       "<path style=\"fill:none;stroke-width:1;stroke-linecap:butt;stroke-linejoin:miter;stroke:rgb(20%,20%,20%);stroke-opacity:1;stroke-miterlimit:10;\" d=\"M 330.699219 368.210938 L 470.570313 325.519531 \"/>\n",
       "<path style=\"fill:none;stroke-width:1;stroke-linecap:butt;stroke-linejoin:miter;stroke:rgb(20%,20%,20%);stroke-opacity:1;stroke-miterlimit:10;\" d=\"M 330.699219 368.210938 L 487.550781 372.578125 \"/>\n",
       "<path style=\"fill:none;stroke-width:1;stroke-linecap:butt;stroke-linejoin:miter;stroke:rgb(80%,80%,80%);stroke-opacity:1;stroke-miterlimit:10;\" d=\"M 330.699219 368.210938 L 134.558594 339.277344 \"/>\n",
       "<path style=\"fill:none;stroke-width:1;stroke-linecap:butt;stroke-linejoin:miter;stroke:rgb(80%,80%,80%);stroke-opacity:1;stroke-miterlimit:10;\" d=\"M 330.699219 368.210938 L 169.328125 377.375 \"/>\n",
       "<path style=\"fill:none;stroke-width:1;stroke-linecap:butt;stroke-linejoin:miter;stroke:rgb(80%,80%,80%);stroke-opacity:1;stroke-miterlimit:10;\" d=\"M 330.699219 368.210938 L 216.507813 469.117188 \"/>\n",
       "<path style=\"fill:none;stroke-width:1;stroke-linecap:butt;stroke-linejoin:miter;stroke:rgb(20%,20%,20%);stroke-opacity:1;stroke-miterlimit:10;\" d=\"M 330.699219 368.210938 L 374.8125 498.171875 \"/>\n",
       "<path style=\"fill:none;stroke-width:1;stroke-linecap:butt;stroke-linejoin:miter;stroke:rgb(80%,80%,80%);stroke-opacity:1;stroke-miterlimit:10;\" d=\"M 330.699219 368.210938 L 278.460938 362.019531 \"/>\n",
       "<path style=\"fill:none;stroke-width:1;stroke-linecap:butt;stroke-linejoin:miter;stroke:rgb(20%,20%,20%);stroke-opacity:1;stroke-miterlimit:10;\" d=\"M 330.699219 368.210938 L 388.070313 394.414063 \"/>\n",
       "<path style=\"fill:none;stroke-width:1;stroke-linecap:butt;stroke-linejoin:miter;stroke:rgb(20%,20%,20%);stroke-opacity:1;stroke-miterlimit:10;\" d=\"M 470.570313 325.519531 L 487.550781 372.578125 \"/>\n",
       "<path style=\"fill:none;stroke-width:1;stroke-linecap:butt;stroke-linejoin:miter;stroke:rgb(20%,20%,20%);stroke-opacity:1;stroke-miterlimit:10;\" d=\"M 470.570313 325.519531 L 559.472656 243.292969 \"/>\n",
       "<path style=\"fill:none;stroke-width:1;stroke-linecap:butt;stroke-linejoin:miter;stroke:rgb(20%,20%,20%);stroke-opacity:1;stroke-miterlimit:10;\" d=\"M 470.570313 325.519531 L 388.070313 394.414063 \"/>\n",
       "<path style=\"fill:none;stroke-width:1;stroke-linecap:butt;stroke-linejoin:miter;stroke:rgb(20%,20%,20%);stroke-opacity:1;stroke-miterlimit:10;\" d=\"M 291.046875 122.910156 L 405.648438 113.058594 \"/>\n",
       "<path style=\"fill:none;stroke-width:1;stroke-linecap:butt;stroke-linejoin:miter;stroke:rgb(20%,20%,20%);stroke-opacity:1;stroke-miterlimit:10;\" d=\"M 291.046875 122.910156 L 376.824219 141.023438 \"/>\n",
       "<path style=\"fill:none;stroke-width:1;stroke-linecap:butt;stroke-linejoin:miter;stroke:rgb(20%,20%,20%);stroke-opacity:1;stroke-miterlimit:10;\" d=\"M 485.023438 145.277344 L 405.648438 113.058594 \"/>\n",
       "<path style=\"fill:none;stroke-width:1;stroke-linecap:butt;stroke-linejoin:miter;stroke:rgb(20%,20%,20%);stroke-opacity:1;stroke-miterlimit:10;\" d=\"M 485.023438 145.277344 L 376.824219 141.023438 \"/>\n",
       "<path style=\"fill:none;stroke-width:1;stroke-linecap:butt;stroke-linejoin:miter;stroke:rgb(20%,20%,20%);stroke-opacity:1;stroke-miterlimit:10;\" d=\"M 485.023438 145.277344 L 494.351563 20 \"/>\n",
       "<path style=\"fill:none;stroke-width:1;stroke-linecap:butt;stroke-linejoin:miter;stroke:rgb(20%,20%,20%);stroke-opacity:1;stroke-miterlimit:10;\" d=\"M 405.648438 113.058594 L 494.351563 20 \"/>\n",
       "<path style=\"fill:none;stroke-width:1;stroke-linecap:butt;stroke-linejoin:miter;stroke:rgb(20%,20%,20%);stroke-opacity:1;stroke-miterlimit:10;\" d=\"M 278.460938 362.019531 L 342.125 450.289063 \"/>\n",
       "<path style=\"fill:none;stroke-width:1;stroke-linecap:butt;stroke-linejoin:miter;stroke:rgb(20%,20%,20%);stroke-opacity:1;stroke-miterlimit:10;\" d=\"M 278.460938 362.019531 L 216.507813 469.117188 \"/>\n",
       "<path style=\"fill:none;stroke-width:1;stroke-linecap:butt;stroke-linejoin:miter;stroke:rgb(20%,20%,20%);stroke-opacity:1;stroke-miterlimit:10;\" d=\"M 278.460938 362.019531 L 203.558594 446.882813 \"/>\n",
       "<path style=\"fill:none;stroke-width:1;stroke-linecap:butt;stroke-linejoin:miter;stroke:rgb(80%,80%,80%);stroke-opacity:1;stroke-miterlimit:10;\" d=\"M 374.8125 498.171875 L 203.558594 446.882813 \"/>\n",
       "<path style=\"fill:none;stroke-width:1;stroke-linecap:butt;stroke-linejoin:miter;stroke:rgb(80%,80%,80%);stroke-opacity:1;stroke-miterlimit:10;\" d=\"M 388.070313 394.414063 L 203.558594 446.882813 \"/>\n",
       "<path style=\"fill:none;stroke-width:1;stroke-linecap:butt;stroke-linejoin:miter;stroke:rgb(20%,20%,20%);stroke-opacity:1;stroke-miterlimit:10;\" d=\"M 312.078125 567.21875 L 216.507813 469.117188 \"/>\n",
       "<path style=\"fill:none;stroke-width:1;stroke-linecap:butt;stroke-linejoin:miter;stroke:rgb(20%,20%,20%);stroke-opacity:1;stroke-miterlimit:10;\" d=\"M 312.078125 567.21875 L 203.558594 446.882813 \"/>\n",
       "<path style=\"fill:none;stroke-width:1;stroke-linecap:butt;stroke-linejoin:miter;stroke:rgb(20%,20%,20%);stroke-opacity:1;stroke-miterlimit:10;\" d=\"M 43.335938 466.246094 L 216.507813 469.117188 \"/>\n",
       "<path style=\"fill:none;stroke-width:1;stroke-linecap:butt;stroke-linejoin:miter;stroke:rgb(20%,20%,20%);stroke-opacity:1;stroke-miterlimit:10;\" d=\"M 43.335938 466.246094 L 203.558594 446.882813 \"/>\n",
       "<path style=\"fill:none;stroke-width:1;stroke-linecap:butt;stroke-linejoin:miter;stroke:rgb(20%,20%,20%);stroke-opacity:1;stroke-miterlimit:10;\" d=\"M 147.3125 560.917969 L 216.507813 469.117188 \"/>\n",
       "<path style=\"fill:none;stroke-width:1;stroke-linecap:butt;stroke-linejoin:miter;stroke:rgb(20%,20%,20%);stroke-opacity:1;stroke-miterlimit:10;\" d=\"M 147.3125 560.917969 L 203.558594 446.882813 \"/>\n",
       "<path style=\"fill:none;stroke-width:1;stroke-linecap:butt;stroke-linejoin:miter;stroke:rgb(80%,80%,80%);stroke-opacity:1;stroke-miterlimit:10;\" d=\"M 272.125 310.546875 L 203.558594 446.882813 \"/>\n",
       "<path style=\"fill:none;stroke-width:1;stroke-linecap:butt;stroke-linejoin:miter;stroke:rgb(20%,20%,20%);stroke-opacity:1;stroke-miterlimit:10;\" d=\"M 259.890625 579.433594 L 216.507813 469.117188 \"/>\n",
       "<path style=\"fill:none;stroke-width:1;stroke-linecap:butt;stroke-linejoin:miter;stroke:rgb(20%,20%,20%);stroke-opacity:1;stroke-miterlimit:10;\" d=\"M 259.890625 579.433594 L 203.558594 446.882813 \"/>\n",
       "<path style=\"fill:none;stroke-width:1;stroke-linecap:butt;stroke-linejoin:miter;stroke:rgb(20%,20%,20%);stroke-opacity:1;stroke-miterlimit:10;\" d=\"M 202.78125 580 L 216.507813 469.117188 \"/>\n",
       "<path style=\"fill:none;stroke-width:1;stroke-linecap:butt;stroke-linejoin:miter;stroke:rgb(20%,20%,20%);stroke-opacity:1;stroke-miterlimit:10;\" d=\"M 202.78125 580 L 203.558594 446.882813 \"/>\n",
       "<path style=\"fill:none;stroke-width:1;stroke-linecap:butt;stroke-linejoin:miter;stroke:rgb(20%,20%,20%);stroke-opacity:1;stroke-miterlimit:10;\" d=\"M 48.835938 403.1875 L 20 279.226563 \"/>\n",
       "<path style=\"fill:none;stroke-width:1;stroke-linecap:butt;stroke-linejoin:miter;stroke:rgb(20%,20%,20%);stroke-opacity:1;stroke-miterlimit:10;\" d=\"M 48.835938 403.1875 L 134.558594 339.277344 \"/>\n",
       "<path style=\"fill:none;stroke-width:1;stroke-linecap:butt;stroke-linejoin:miter;stroke:rgb(80%,80%,80%);stroke-opacity:1;stroke-miterlimit:10;\" d=\"M 48.835938 403.1875 L 216.507813 469.117188 \"/>\n",
       "<path style=\"fill:none;stroke-width:1;stroke-linecap:butt;stroke-linejoin:miter;stroke:rgb(80%,80%,80%);stroke-opacity:1;stroke-miterlimit:10;\" d=\"M 48.835938 403.1875 L 203.558594 446.882813 \"/>\n",
       "<path style=\"fill:none;stroke-width:1;stroke-linecap:butt;stroke-linejoin:miter;stroke:rgb(80%,80%,80%);stroke-opacity:1;stroke-miterlimit:10;\" d=\"M 48.835938 403.1875 L 76.371094 489.132813 \"/>\n",
       "<path style=\"fill:none;stroke-width:1;stroke-linecap:butt;stroke-linejoin:miter;stroke:rgb(20%,20%,20%);stroke-opacity:1;stroke-miterlimit:10;\" d=\"M 80.992188 221.210938 L 20 279.226563 \"/>\n",
       "<path style=\"fill:none;stroke-width:1;stroke-linecap:butt;stroke-linejoin:miter;stroke:rgb(20%,20%,20%);stroke-opacity:1;stroke-miterlimit:10;\" d=\"M 80.992188 221.210938 L 134.558594 339.277344 \"/>\n",
       "<path style=\"fill:none;stroke-width:1;stroke-linecap:butt;stroke-linejoin:miter;stroke:rgb(20%,20%,20%);stroke-opacity:1;stroke-miterlimit:10;\" d=\"M 80.992188 221.210938 L 200.519531 303.695313 \"/>\n",
       "<path style=\"fill:none;stroke-width:1;stroke-linecap:butt;stroke-linejoin:miter;stroke:rgb(20%,20%,20%);stroke-opacity:1;stroke-miterlimit:10;\" d=\"M 20 279.226563 L 200.519531 303.695313 \"/>\n",
       "<path style=\"fill:none;stroke-width:1;stroke-linecap:butt;stroke-linejoin:miter;stroke:rgb(20%,20%,20%);stroke-opacity:1;stroke-miterlimit:10;\" d=\"M 68.75 554.882813 L 76.371094 489.132813 \"/>\n",
       "<path style=\"fill:none;stroke-width:1;stroke-linecap:butt;stroke-linejoin:miter;stroke:rgb(20%,20%,20%);stroke-opacity:1;stroke-miterlimit:10;\" d=\"M 68.75 554.882813 L 203.558594 446.882813 \"/>\n",
       "<path style=\"fill:none;stroke-width:1;stroke-linecap:butt;stroke-linejoin:miter;stroke:rgb(80%,80%,80%);stroke-opacity:1;stroke-miterlimit:10;\" d=\"M 134.558594 339.277344 L 203.558594 446.882813 \"/>\n",
       "<path style=\"fill:none;stroke-width:1;stroke-linecap:butt;stroke-linejoin:miter;stroke:rgb(20%,20%,20%);stroke-opacity:1;stroke-miterlimit:10;\" d=\"M 169.328125 377.375 L 200.519531 303.695313 \"/>\n",
       "<path style=\"fill:none;stroke-width:1;stroke-linecap:butt;stroke-linejoin:miter;stroke:rgb(80%,80%,80%);stroke-opacity:1;stroke-miterlimit:10;\" d=\"M 169.328125 377.375 L 203.558594 446.882813 \"/>\n",
       "<path style=\"fill:none;stroke-width:1;stroke-linecap:butt;stroke-linejoin:miter;stroke:rgb(20%,20%,20%);stroke-opacity:1;stroke-miterlimit:10;\" d=\"M 76.371094 489.132813 L 216.507813 469.117188 \"/>\n",
       "<path style=\"fill:none;stroke-width:1;stroke-linecap:butt;stroke-linejoin:miter;stroke:rgb(20%,20%,20%);stroke-opacity:1;stroke-miterlimit:10;\" d=\"M 76.371094 489.132813 L 203.558594 446.882813 \"/>\n",
       "<path style=\"fill:none;stroke-width:1;stroke-linecap:butt;stroke-linejoin:miter;stroke:rgb(20%,20%,20%);stroke-opacity:1;stroke-miterlimit:10;\" d=\"M 342.125 450.289063 L 216.507813 469.117188 \"/>\n",
       "<path style=\"fill:none;stroke-width:1;stroke-linecap:butt;stroke-linejoin:miter;stroke:rgb(20%,20%,20%);stroke-opacity:1;stroke-miterlimit:10;\" d=\"M 342.125 450.289063 L 203.558594 446.882813 \"/>\n",
       "<path style=\"fill:none;stroke-width:1;stroke-linecap:butt;stroke-linejoin:miter;stroke:rgb(80%,80%,80%);stroke-opacity:1;stroke-miterlimit:10;\" d=\"M 200.519531 303.695313 L 216.507813 469.117188 \"/>\n",
       "<path style=\"fill:none;stroke-width:1;stroke-linecap:butt;stroke-linejoin:miter;stroke:rgb(80%,80%,80%);stroke-opacity:1;stroke-miterlimit:10;\" d=\"M 200.519531 303.695313 L 203.558594 446.882813 \"/>\n",
       "<path style=\"fill:none;stroke-width:1;stroke-linecap:butt;stroke-linejoin:miter;stroke:rgb(20%,20%,20%);stroke-opacity:1;stroke-miterlimit:10;\" d=\"M 216.507813 469.117188 L 203.558594 446.882813 \"/>\n",
       "<path style=\"fill-rule:nonzero;fill:rgb(0%,100%,0%);fill-opacity:1;stroke-width:1;stroke-linecap:butt;stroke-linejoin:miter;stroke:rgb(0%,0%,0%);stroke-opacity:1;stroke-miterlimit:10;\" d=\"M 392.507813 252.511719 C 392.507813 258.035156 388.027344 262.511719 382.507813 262.511719 C 376.984375 262.511719 372.507813 258.035156 372.507813 252.511719 C 372.507813 246.992188 376.984375 242.511719 382.507813 242.511719 C 388.027344 242.511719 392.507813 246.992188 392.507813 252.511719 \"/>\n",
       "<path style=\"fill-rule:nonzero;fill:rgb(0%,100%,0%);fill-opacity:1;stroke-width:1;stroke-linecap:butt;stroke-linejoin:miter;stroke:rgb(0%,0%,0%);stroke-opacity:1;stroke-miterlimit:10;\" d=\"M 405.859375 305.929688 C 405.859375 311.453125 401.382813 315.929688 395.859375 315.929688 C 390.335938 315.929688 385.859375 311.453125 385.859375 305.929688 C 385.859375 300.410156 390.335938 295.929688 395.859375 295.929688 C 401.382813 295.929688 405.859375 300.410156 405.859375 305.929688 \"/>\n",
       "<path style=\"fill-rule:nonzero;fill:rgb(0%,100%,0%);fill-opacity:1;stroke-width:1;stroke-linecap:butt;stroke-linejoin:miter;stroke:rgb(0%,0%,0%);stroke-opacity:1;stroke-miterlimit:10;\" d=\"M 340.699219 368.210938 C 340.699219 373.734375 336.222656 378.210938 330.699219 378.210938 C 325.175781 378.210938 320.699219 373.734375 320.699219 368.210938 C 320.699219 362.6875 325.175781 358.210938 330.699219 358.210938 C 336.222656 358.210938 340.699219 362.6875 340.699219 368.210938 \"/>\n",
       "<path style=\"fill-rule:nonzero;fill:rgb(0%,100%,0%);fill-opacity:1;stroke-width:1;stroke-linecap:butt;stroke-linejoin:miter;stroke:rgb(0%,0%,0%);stroke-opacity:1;stroke-miterlimit:10;\" d=\"M 480.570313 325.519531 C 480.570313 331.042969 476.09375 335.519531 470.570313 335.519531 C 465.046875 335.519531 460.570313 331.042969 460.570313 325.519531 C 460.570313 319.996094 465.046875 315.519531 470.570313 315.519531 C 476.09375 315.519531 480.570313 319.996094 480.570313 325.519531 \"/>\n",
       "<path style=\"fill-rule:nonzero;fill:rgb(100%,0%,0%);fill-opacity:1;stroke-width:1;stroke-linecap:butt;stroke-linejoin:miter;stroke:rgb(0%,0%,0%);stroke-opacity:1;stroke-miterlimit:10;\" d=\"M 301.046875 122.910156 C 301.046875 128.433594 296.570313 132.910156 291.046875 132.910156 C 285.523438 132.910156 281.046875 128.433594 281.046875 122.910156 C 281.046875 117.386719 285.523438 112.910156 291.046875 112.910156 C 296.570313 112.910156 301.046875 117.386719 301.046875 122.910156 \"/>\n",
       "<path style=\"fill-rule:nonzero;fill:rgb(100%,0%,0%);fill-opacity:1;stroke-width:1;stroke-linecap:butt;stroke-linejoin:miter;stroke:rgb(0%,0%,0%);stroke-opacity:1;stroke-miterlimit:10;\" d=\"M 495.023438 145.277344 C 495.023438 150.800781 490.546875 155.277344 485.023438 155.277344 C 479.5 155.277344 475.023438 150.800781 475.023438 145.277344 C 475.023438 139.753906 479.5 135.277344 485.023438 135.277344 C 490.546875 135.277344 495.023438 139.753906 495.023438 145.277344 \"/>\n",
       "<path style=\"fill-rule:nonzero;fill:rgb(100%,0%,0%);fill-opacity:1;stroke-width:1;stroke-linecap:butt;stroke-linejoin:miter;stroke:rgb(0%,0%,0%);stroke-opacity:1;stroke-miterlimit:10;\" d=\"M 415.648438 113.058594 C 415.648438 118.582031 411.171875 123.058594 405.648438 123.058594 C 400.125 123.058594 395.648438 118.582031 395.648438 113.058594 C 395.648438 107.535156 400.125 103.058594 405.648438 103.058594 C 411.171875 103.058594 415.648438 107.535156 415.648438 113.058594 \"/>\n",
       "<path style=\"fill-rule:nonzero;fill:rgb(0%,100%,0%);fill-opacity:1;stroke-width:1;stroke-linecap:butt;stroke-linejoin:miter;stroke:rgb(0%,0%,0%);stroke-opacity:1;stroke-miterlimit:10;\" d=\"M 497.550781 372.578125 C 497.550781 378.101563 493.074219 382.578125 487.550781 382.578125 C 482.027344 382.578125 477.550781 378.101563 477.550781 372.578125 C 477.550781 367.054688 482.027344 362.578125 487.550781 362.578125 C 493.074219 362.578125 497.550781 367.054688 497.550781 372.578125 \"/>\n",
       "<path style=\"fill-rule:nonzero;fill:rgb(100%,100%,0%);fill-opacity:1;stroke-width:1;stroke-linecap:butt;stroke-linejoin:miter;stroke:rgb(0%,0%,0%);stroke-opacity:1;stroke-miterlimit:10;\" d=\"M 288.460938 362.019531 C 288.460938 367.542969 283.984375 372.019531 278.460938 372.019531 C 272.941406 372.019531 268.460938 367.542969 268.460938 362.019531 C 268.460938 356.496094 272.941406 352.019531 278.460938 352.019531 C 283.984375 352.019531 288.460938 356.496094 288.460938 362.019531 \"/>\n",
       "<path style=\"fill-rule:nonzero;fill:rgb(0%,100%,0%);fill-opacity:1;stroke-width:1;stroke-linecap:butt;stroke-linejoin:miter;stroke:rgb(0%,0%,0%);stroke-opacity:1;stroke-miterlimit:10;\" d=\"M 384.8125 498.171875 C 384.8125 503.695313 380.335938 508.171875 374.8125 508.171875 C 369.289063 508.171875 364.8125 503.695313 364.8125 498.171875 C 364.8125 492.648438 369.289063 488.171875 374.8125 488.171875 C 380.335938 488.171875 384.8125 492.648438 384.8125 498.171875 \"/>\n",
       "<path style=\"fill-rule:nonzero;fill:rgb(100%,0%,0%);fill-opacity:1;stroke-width:1;stroke-linecap:butt;stroke-linejoin:miter;stroke:rgb(0%,0%,0%);stroke-opacity:1;stroke-miterlimit:10;\" d=\"M 386.824219 141.023438 C 386.824219 146.546875 382.347656 151.023438 376.824219 151.023438 C 371.300781 151.023438 366.824219 146.546875 366.824219 141.023438 C 366.824219 135.5 371.300781 131.023438 376.824219 131.023438 C 382.347656 131.023438 386.824219 135.5 386.824219 141.023438 \"/>\n",
       "<path style=\"fill-rule:nonzero;fill:rgb(0%,100%,0%);fill-opacity:1;stroke-width:1;stroke-linecap:butt;stroke-linejoin:miter;stroke:rgb(0%,0%,0%);stroke-opacity:1;stroke-miterlimit:10;\" d=\"M 590 293 C 590 298.523438 585.523438 303 580 303 C 574.476563 303 570 298.523438 570 293 C 570 287.476563 574.476563 283 580 283 C 585.523438 283 590 287.476563 590 293 \"/>\n",
       "<path style=\"fill-rule:nonzero;fill:rgb(0%,100%,0%);fill-opacity:1;stroke-width:1;stroke-linecap:butt;stroke-linejoin:miter;stroke:rgb(0%,0%,0%);stroke-opacity:1;stroke-miterlimit:10;\" d=\"M 569.472656 243.292969 C 569.472656 248.816406 564.996094 253.292969 559.472656 253.292969 C 553.949219 253.292969 549.472656 248.816406 549.472656 243.292969 C 549.472656 237.773438 553.949219 233.292969 559.472656 233.292969 C 564.996094 233.292969 569.472656 237.773438 569.472656 243.292969 \"/>\n",
       "<path style=\"fill-rule:nonzero;fill:rgb(0%,100%,0%);fill-opacity:1;stroke-width:1;stroke-linecap:butt;stroke-linejoin:miter;stroke:rgb(0%,0%,0%);stroke-opacity:1;stroke-miterlimit:10;\" d=\"M 398.070313 394.414063 C 398.070313 399.9375 393.59375 404.414063 388.070313 404.414063 C 382.550781 404.414063 378.070313 399.9375 378.070313 394.414063 C 378.070313 388.890625 382.550781 384.414063 388.070313 384.414063 C 393.59375 384.414063 398.070313 388.890625 398.070313 394.414063 \"/>\n",
       "<path style=\"fill-rule:nonzero;fill:rgb(100%,100%,0%);fill-opacity:1;stroke-width:1;stroke-linecap:butt;stroke-linejoin:miter;stroke:rgb(0%,0%,0%);stroke-opacity:1;stroke-miterlimit:10;\" d=\"M 322.078125 567.21875 C 322.078125 572.742188 317.601563 577.21875 312.078125 577.21875 C 306.554688 577.21875 302.078125 572.742188 302.078125 567.21875 C 302.078125 561.695313 306.554688 557.21875 312.078125 557.21875 C 317.601563 557.21875 322.078125 561.695313 322.078125 567.21875 \"/>\n",
       "<path style=\"fill-rule:nonzero;fill:rgb(100%,100%,0%);fill-opacity:1;stroke-width:1;stroke-linecap:butt;stroke-linejoin:miter;stroke:rgb(0%,0%,0%);stroke-opacity:1;stroke-miterlimit:10;\" d=\"M 53.335938 466.246094 C 53.335938 471.769531 48.859375 476.246094 43.335938 476.246094 C 37.8125 476.246094 33.335938 471.769531 33.335938 466.246094 C 33.335938 460.722656 37.8125 456.246094 43.335938 456.246094 C 48.859375 456.246094 53.335938 460.722656 53.335938 466.246094 \"/>\n",
       "<path style=\"fill-rule:nonzero;fill:rgb(100%,0%,0%);fill-opacity:1;stroke-width:1;stroke-linecap:butt;stroke-linejoin:miter;stroke:rgb(0%,0%,0%);stroke-opacity:1;stroke-miterlimit:10;\" d=\"M 504.351563 20 C 504.351563 25.523438 499.875 30 494.351563 30 C 488.828125 30 484.351563 25.523438 484.351563 20 C 484.351563 14.476563 488.828125 10 494.351563 10 C 499.875 10 504.351563 14.476563 504.351563 20 \"/>\n",
       "<path style=\"fill-rule:nonzero;fill:rgb(0%,100%,0%);fill-opacity:1;stroke-width:1;stroke-linecap:butt;stroke-linejoin:miter;stroke:rgb(0%,0%,0%);stroke-opacity:1;stroke-miterlimit:10;\" d=\"M 311.570313 181.332031 C 311.570313 186.855469 307.09375 191.332031 301.570313 191.332031 C 296.046875 191.332031 291.570313 186.855469 291.570313 181.332031 C 291.570313 175.808594 296.046875 171.332031 301.570313 171.332031 C 307.09375 171.332031 311.570313 175.808594 311.570313 181.332031 \"/>\n",
       "<path style=\"fill-rule:nonzero;fill:rgb(100%,100%,0%);fill-opacity:1;stroke-width:1;stroke-linecap:butt;stroke-linejoin:miter;stroke:rgb(0%,0%,0%);stroke-opacity:1;stroke-miterlimit:10;\" d=\"M 157.3125 560.917969 C 157.3125 566.441406 152.835938 570.917969 147.3125 570.917969 C 141.789063 570.917969 137.3125 566.441406 137.3125 560.917969 C 137.3125 555.394531 141.789063 550.917969 147.3125 550.917969 C 152.835938 550.917969 157.3125 555.394531 157.3125 560.917969 \"/>\n",
       "<path style=\"fill-rule:nonzero;fill:rgb(0%,100%,0%);fill-opacity:1;stroke-width:1;stroke-linecap:butt;stroke-linejoin:miter;stroke:rgb(0%,0%,0%);stroke-opacity:1;stroke-miterlimit:10;\" d=\"M 282.125 310.546875 C 282.125 316.070313 277.648438 320.546875 272.125 320.546875 C 266.601563 320.546875 262.125 316.070313 262.125 310.546875 C 262.125 305.027344 266.601563 300.546875 272.125 300.546875 C 277.648438 300.546875 282.125 305.027344 282.125 310.546875 \"/>\n",
       "<path style=\"fill-rule:nonzero;fill:rgb(100%,100%,0%);fill-opacity:1;stroke-width:1;stroke-linecap:butt;stroke-linejoin:miter;stroke:rgb(0%,0%,0%);stroke-opacity:1;stroke-miterlimit:10;\" d=\"M 269.890625 579.433594 C 269.890625 584.957031 265.414063 589.433594 259.890625 589.433594 C 254.367188 589.433594 249.890625 584.957031 249.890625 579.433594 C 249.890625 573.914063 254.367188 569.433594 259.890625 569.433594 C 265.414063 569.433594 269.890625 573.914063 269.890625 579.433594 \"/>\n",
       "<path style=\"fill-rule:nonzero;fill:rgb(0%,100%,0%);fill-opacity:1;stroke-width:1;stroke-linecap:butt;stroke-linejoin:miter;stroke:rgb(0%,0%,0%);stroke-opacity:1;stroke-miterlimit:10;\" d=\"M 514.359375 220.242188 C 514.359375 225.765625 509.882813 230.242188 504.359375 230.242188 C 498.835938 230.242188 494.359375 225.765625 494.359375 220.242188 C 494.359375 214.71875 498.835938 210.242188 504.359375 210.242188 C 509.882813 210.242188 514.359375 214.71875 514.359375 220.242188 \"/>\n",
       "<path style=\"fill-rule:nonzero;fill:rgb(100%,100%,0%);fill-opacity:1;stroke-width:1;stroke-linecap:butt;stroke-linejoin:miter;stroke:rgb(0%,0%,0%);stroke-opacity:1;stroke-miterlimit:10;\" d=\"M 212.78125 580 C 212.78125 585.523438 208.304688 590 202.78125 590 C 197.257813 590 192.78125 585.523438 192.78125 580 C 192.78125 574.476563 197.257813 570 202.78125 570 C 208.304688 570 212.78125 574.476563 212.78125 580 \"/>\n",
       "<path style=\"fill-rule:nonzero;fill:rgb(0%,0%,100%);fill-opacity:1;stroke-width:1;stroke-linecap:butt;stroke-linejoin:miter;stroke:rgb(0%,0%,0%);stroke-opacity:1;stroke-miterlimit:10;\" d=\"M 58.835938 403.1875 C 58.835938 408.710938 54.359375 413.1875 48.835938 413.1875 C 43.3125 413.1875 38.835938 408.710938 38.835938 403.1875 C 38.835938 397.664063 43.3125 393.1875 48.835938 393.1875 C 54.359375 393.1875 58.835938 397.664063 58.835938 403.1875 \"/>\n",
       "<path style=\"fill-rule:nonzero;fill:rgb(0%,0%,100%);fill-opacity:1;stroke-width:1;stroke-linecap:butt;stroke-linejoin:miter;stroke:rgb(0%,0%,0%);stroke-opacity:1;stroke-miterlimit:10;\" d=\"M 90.992188 221.210938 C 90.992188 226.734375 86.515625 231.210938 80.992188 231.210938 C 75.46875 231.210938 70.992188 226.734375 70.992188 221.210938 C 70.992188 215.691406 75.46875 211.210938 80.992188 211.210938 C 86.515625 211.210938 90.992188 215.691406 90.992188 221.210938 \"/>\n",
       "<path style=\"fill-rule:nonzero;fill:rgb(0%,0%,100%);fill-opacity:1;stroke-width:1;stroke-linecap:butt;stroke-linejoin:miter;stroke:rgb(0%,0%,0%);stroke-opacity:1;stroke-miterlimit:10;\" d=\"M 30 279.226563 C 30 284.75 25.523438 289.226563 20 289.226563 C 14.476563 289.226563 10 284.75 10 279.226563 C 10 273.707031 14.476563 269.226563 20 269.226563 C 25.523438 269.226563 30 273.707031 30 279.226563 \"/>\n",
       "<path style=\"fill-rule:nonzero;fill:rgb(100%,100%,0%);fill-opacity:1;stroke-width:1;stroke-linecap:butt;stroke-linejoin:miter;stroke:rgb(0%,0%,0%);stroke-opacity:1;stroke-miterlimit:10;\" d=\"M 78.75 554.882813 C 78.75 560.40625 74.273438 564.882813 68.75 564.882813 C 63.226563 564.882813 58.75 560.40625 58.75 554.882813 C 58.75 549.363281 63.226563 544.882813 68.75 544.882813 C 74.273438 544.882813 78.75 549.363281 78.75 554.882813 \"/>\n",
       "<path style=\"fill-rule:nonzero;fill:rgb(0%,0%,100%);fill-opacity:1;stroke-width:1;stroke-linecap:butt;stroke-linejoin:miter;stroke:rgb(0%,0%,0%);stroke-opacity:1;stroke-miterlimit:10;\" d=\"M 144.558594 339.277344 C 144.558594 344.800781 140.082031 349.277344 134.558594 349.277344 C 129.039063 349.277344 124.558594 344.800781 124.558594 339.277344 C 124.558594 333.753906 129.039063 329.277344 134.558594 329.277344 C 140.082031 329.277344 144.558594 333.753906 144.558594 339.277344 \"/>\n",
       "<path style=\"fill-rule:nonzero;fill:rgb(0%,0%,100%);fill-opacity:1;stroke-width:1;stroke-linecap:butt;stroke-linejoin:miter;stroke:rgb(0%,0%,0%);stroke-opacity:1;stroke-miterlimit:10;\" d=\"M 179.328125 377.375 C 179.328125 382.894531 174.851563 387.375 169.328125 387.375 C 163.804688 387.375 159.328125 382.894531 159.328125 377.375 C 159.328125 371.851563 163.804688 367.375 169.328125 367.375 C 174.851563 367.375 179.328125 371.851563 179.328125 377.375 \"/>\n",
       "<path style=\"fill-rule:nonzero;fill:rgb(100%,100%,0%);fill-opacity:1;stroke-width:1;stroke-linecap:butt;stroke-linejoin:miter;stroke:rgb(0%,0%,0%);stroke-opacity:1;stroke-miterlimit:10;\" d=\"M 86.371094 489.132813 C 86.371094 494.65625 81.894531 499.132813 76.371094 499.132813 C 70.847656 499.132813 66.371094 494.65625 66.371094 489.132813 C 66.371094 483.613281 70.847656 479.132813 76.371094 479.132813 C 81.894531 479.132813 86.371094 483.613281 86.371094 489.132813 \"/>\n",
       "<path style=\"fill-rule:nonzero;fill:rgb(100%,100%,0%);fill-opacity:1;stroke-width:1;stroke-linecap:butt;stroke-linejoin:miter;stroke:rgb(0%,0%,0%);stroke-opacity:1;stroke-miterlimit:10;\" d=\"M 352.125 450.289063 C 352.125 455.8125 347.648438 460.289063 342.125 460.289063 C 336.601563 460.289063 332.125 455.8125 332.125 450.289063 C 332.125 444.765625 336.601563 440.289063 342.125 440.289063 C 347.648438 440.289063 352.125 444.765625 352.125 450.289063 \"/>\n",
       "<path style=\"fill-rule:nonzero;fill:rgb(0%,0%,100%);fill-opacity:1;stroke-width:1;stroke-linecap:butt;stroke-linejoin:miter;stroke:rgb(0%,0%,0%);stroke-opacity:1;stroke-miterlimit:10;\" d=\"M 210.519531 303.695313 C 210.519531 309.21875 206.042969 313.695313 200.519531 313.695313 C 195 313.695313 190.519531 309.21875 190.519531 303.695313 C 190.519531 298.171875 195 293.695313 200.519531 293.695313 C 206.042969 293.695313 210.519531 298.171875 210.519531 303.695313 \"/>\n",
       "<path style=\"fill-rule:nonzero;fill:rgb(100%,100%,0%);fill-opacity:1;stroke-width:1;stroke-linecap:butt;stroke-linejoin:miter;stroke:rgb(0%,0%,0%);stroke-opacity:1;stroke-miterlimit:10;\" d=\"M 226.507813 469.117188 C 226.507813 474.640625 222.03125 479.117188 216.507813 479.117188 C 210.984375 479.117188 206.507813 474.640625 206.507813 469.117188 C 206.507813 463.59375 210.984375 459.117188 216.507813 459.117188 C 222.03125 459.117188 226.507813 463.59375 226.507813 469.117188 \"/>\n",
       "<path style=\"fill-rule:nonzero;fill:rgb(100%,100%,0%);fill-opacity:1;stroke-width:1;stroke-linecap:butt;stroke-linejoin:miter;stroke:rgb(0%,0%,0%);stroke-opacity:1;stroke-miterlimit:10;\" d=\"M 213.558594 446.882813 C 213.558594 452.40625 209.082031 456.882813 203.558594 456.882813 C 198.039063 456.882813 193.558594 452.40625 193.558594 446.882813 C 193.558594 441.359375 198.039063 436.882813 203.558594 436.882813 C 209.082031 436.882813 213.558594 441.359375 213.558594 446.882813 \"/>\n",
       "</g>\n",
       "</svg>\n"
      ],
      "text/plain": [
       "<igraph.drawing.Plot at 0x6084d68>"
      ]
     },
     "execution_count": 3,
     "metadata": {},
     "output_type": "execute_result"
    }
   ],
   "source": [
    "ig.plot(G.community_multilevel())"
   ]
  }
 ],
 "metadata": {
  "kernelspec": {
   "display_name": "Python 3",
   "language": "python",
   "name": "python3"
  },
  "language_info": {
   "codemirror_mode": {
    "name": "ipython",
    "version": 3
   },
   "file_extension": ".py",
   "mimetype": "text/x-python",
   "name": "python",
   "nbconvert_exporter": "python",
   "pygments_lexer": "ipython3",
   "version": "3.6.3"
  }
 },
 "nbformat": 4,
 "nbformat_minor": 2
}
