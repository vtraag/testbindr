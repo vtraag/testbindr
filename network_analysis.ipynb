{
 "cells": [
  {
   "cell_type": "code",
   "execution_count": 1,
   "metadata": {
    "collapsed": true
   },
   "outputs": [],
   "source": [
    "import igraph as ig"
   ]
  },
  {
   "cell_type": "code",
   "execution_count": 2,
   "metadata": {
    "collapsed": true
   },
   "outputs": [],
   "source": [
    "G = ig.Graph.Famous('Zachary')"
   ]
  },
  {
   "cell_type": "code",
   "execution_count": 3,
   "metadata": {},
   "outputs": [
    {
     "data": {
      "image/svg+xml": [
       "<?xml version=\"1.0\" encoding=\"UTF-8\"?>\n",
       "<svg xmlns=\"http://www.w3.org/2000/svg\" xmlns:xlink=\"http://www.w3.org/1999/xlink\" width=\"600pt\" height=\"600pt\" viewBox=\"0 0 600 600\" version=\"1.1\">\n",
       "<g id=\"surface2\">\n",
       "<rect x=\"0\" y=\"0\" width=\"600\" height=\"600\" style=\"fill:rgb(100%,100%,100%);fill-opacity:1;stroke:none;\"/>\n",
       "<path style=\"fill:none;stroke-width:1;stroke-linecap:butt;stroke-linejoin:miter;stroke:rgb(20%,20%,20%);stroke-opacity:1;stroke-miterlimit:10;\" d=\"M 333.183594 213.027344 L 327.554688 269.289063 \"/>\n",
       "<path style=\"fill:none;stroke-width:1;stroke-linecap:butt;stroke-linejoin:miter;stroke:rgb(20%,20%,20%);stroke-opacity:1;stroke-miterlimit:10;\" d=\"M 333.183594 213.027344 L 222.652344 276.640625 \"/>\n",
       "<path style=\"fill:none;stroke-width:1;stroke-linecap:butt;stroke-linejoin:miter;stroke:rgb(20%,20%,20%);stroke-opacity:1;stroke-miterlimit:10;\" d=\"M 333.183594 213.027344 L 273.378906 175.730469 \"/>\n",
       "<path style=\"fill:none;stroke-width:1;stroke-linecap:butt;stroke-linejoin:miter;stroke:rgb(80%,80%,80%);stroke-opacity:1;stroke-miterlimit:10;\" d=\"M 333.183594 213.027344 L 443.210938 273.355469 \"/>\n",
       "<path style=\"fill:none;stroke-width:1;stroke-linecap:butt;stroke-linejoin:miter;stroke:rgb(80%,80%,80%);stroke-opacity:1;stroke-miterlimit:10;\" d=\"M 333.183594 213.027344 L 474.074219 247.269531 \"/>\n",
       "<path style=\"fill:none;stroke-width:1;stroke-linecap:butt;stroke-linejoin:miter;stroke:rgb(80%,80%,80%);stroke-opacity:1;stroke-miterlimit:10;\" d=\"M 333.183594 213.027344 L 461.367188 155.625 \"/>\n",
       "<path style=\"fill:none;stroke-width:1;stroke-linecap:butt;stroke-linejoin:miter;stroke:rgb(20%,20%,20%);stroke-opacity:1;stroke-miterlimit:10;\" d=\"M 333.183594 213.027344 L 247.121094 125.570313 \"/>\n",
       "<path style=\"fill:none;stroke-width:1;stroke-linecap:butt;stroke-linejoin:miter;stroke:rgb(80%,80%,80%);stroke-opacity:1;stroke-miterlimit:10;\" d=\"M 333.183594 213.027344 L 245.53125 354.507813 \"/>\n",
       "<path style=\"fill:none;stroke-width:1;stroke-linecap:butt;stroke-linejoin:miter;stroke:rgb(80%,80%,80%);stroke-opacity:1;stroke-miterlimit:10;\" d=\"M 333.183594 213.027344 L 442.464844 355.894531 \"/>\n",
       "<path style=\"fill:none;stroke-width:1;stroke-linecap:butt;stroke-linejoin:miter;stroke:rgb(20%,20%,20%);stroke-opacity:1;stroke-miterlimit:10;\" d=\"M 333.183594 213.027344 L 354.386719 20 \"/>\n",
       "<path style=\"fill:none;stroke-width:1;stroke-linecap:butt;stroke-linejoin:miter;stroke:rgb(20%,20%,20%);stroke-opacity:1;stroke-miterlimit:10;\" d=\"M 333.183594 213.027344 L 292.40625 30.011719 \"/>\n",
       "<path style=\"fill:none;stroke-width:1;stroke-linecap:butt;stroke-linejoin:miter;stroke:rgb(20%,20%,20%);stroke-opacity:1;stroke-miterlimit:10;\" d=\"M 333.183594 213.027344 L 274.878906 330.707031 \"/>\n",
       "<path style=\"fill:none;stroke-width:1;stroke-linecap:butt;stroke-linejoin:miter;stroke:rgb(20%,20%,20%);stroke-opacity:1;stroke-miterlimit:10;\" d=\"M 333.183594 213.027344 L 406.785156 143.066406 \"/>\n",
       "<path style=\"fill:none;stroke-width:1;stroke-linecap:butt;stroke-linejoin:miter;stroke:rgb(20%,20%,20%);stroke-opacity:1;stroke-miterlimit:10;\" d=\"M 333.183594 213.027344 L 308.300781 393.296875 \"/>\n",
       "<path style=\"fill:none;stroke-width:1;stroke-linecap:butt;stroke-linejoin:miter;stroke:rgb(20%,20%,20%);stroke-opacity:1;stroke-miterlimit:10;\" d=\"M 333.183594 213.027344 L 369.800781 93.820313 \"/>\n",
       "<path style=\"fill:none;stroke-width:1;stroke-linecap:butt;stroke-linejoin:miter;stroke:rgb(80%,80%,80%);stroke-opacity:1;stroke-miterlimit:10;\" d=\"M 333.183594 213.027344 L 176.289063 231.199219 \"/>\n",
       "<path style=\"fill:none;stroke-width:1;stroke-linecap:butt;stroke-linejoin:miter;stroke:rgb(20%,20%,20%);stroke-opacity:1;stroke-miterlimit:10;\" d=\"M 327.554688 269.289063 L 222.652344 276.640625 \"/>\n",
       "<path style=\"fill:none;stroke-width:1;stroke-linecap:butt;stroke-linejoin:miter;stroke:rgb(20%,20%,20%);stroke-opacity:1;stroke-miterlimit:10;\" d=\"M 327.554688 269.289063 L 273.378906 175.730469 \"/>\n",
       "<path style=\"fill:none;stroke-width:1;stroke-linecap:butt;stroke-linejoin:miter;stroke:rgb(20%,20%,20%);stroke-opacity:1;stroke-miterlimit:10;\" d=\"M 327.554688 269.289063 L 247.121094 125.570313 \"/>\n",
       "<path style=\"fill:none;stroke-width:1;stroke-linecap:butt;stroke-linejoin:miter;stroke:rgb(20%,20%,20%);stroke-opacity:1;stroke-miterlimit:10;\" d=\"M 327.554688 269.289063 L 274.878906 330.707031 \"/>\n",
       "<path style=\"fill:none;stroke-width:1;stroke-linecap:butt;stroke-linejoin:miter;stroke:rgb(20%,20%,20%);stroke-opacity:1;stroke-miterlimit:10;\" d=\"M 327.554688 269.289063 L 406.785156 143.066406 \"/>\n",
       "<path style=\"fill:none;stroke-width:1;stroke-linecap:butt;stroke-linejoin:miter;stroke:rgb(20%,20%,20%);stroke-opacity:1;stroke-miterlimit:10;\" d=\"M 327.554688 269.289063 L 308.300781 393.296875 \"/>\n",
       "<path style=\"fill:none;stroke-width:1;stroke-linecap:butt;stroke-linejoin:miter;stroke:rgb(20%,20%,20%);stroke-opacity:1;stroke-miterlimit:10;\" d=\"M 327.554688 269.289063 L 369.800781 93.820313 \"/>\n",
       "<path style=\"fill:none;stroke-width:1;stroke-linecap:butt;stroke-linejoin:miter;stroke:rgb(80%,80%,80%);stroke-opacity:1;stroke-miterlimit:10;\" d=\"M 327.554688 269.289063 L 255.292969 440.796875 \"/>\n",
       "<path style=\"fill:none;stroke-width:1;stroke-linecap:butt;stroke-linejoin:miter;stroke:rgb(20%,20%,20%);stroke-opacity:1;stroke-miterlimit:10;\" d=\"M 222.652344 276.640625 L 273.378906 175.730469 \"/>\n",
       "<path style=\"fill:none;stroke-width:1;stroke-linecap:butt;stroke-linejoin:miter;stroke:rgb(20%,20%,20%);stroke-opacity:1;stroke-miterlimit:10;\" d=\"M 222.652344 276.640625 L 247.121094 125.570313 \"/>\n",
       "<path style=\"fill:none;stroke-width:1;stroke-linecap:butt;stroke-linejoin:miter;stroke:rgb(80%,80%,80%);stroke-opacity:1;stroke-miterlimit:10;\" d=\"M 222.652344 276.640625 L 106.742188 243.183594 \"/>\n",
       "<path style=\"fill:none;stroke-width:1;stroke-linecap:butt;stroke-linejoin:miter;stroke:rgb(80%,80%,80%);stroke-opacity:1;stroke-miterlimit:10;\" d=\"M 222.652344 276.640625 L 117.960938 299.453125 \"/>\n",
       "<path style=\"fill:none;stroke-width:1;stroke-linecap:butt;stroke-linejoin:miter;stroke:rgb(80%,80%,80%);stroke-opacity:1;stroke-miterlimit:10;\" d=\"M 222.652344 276.640625 L 133.050781 404.007813 \"/>\n",
       "<path style=\"fill:none;stroke-width:1;stroke-linecap:butt;stroke-linejoin:miter;stroke:rgb(20%,20%,20%);stroke-opacity:1;stroke-miterlimit:10;\" d=\"M 222.652344 276.640625 L 256.152344 493.175781 \"/>\n",
       "<path style=\"fill:none;stroke-width:1;stroke-linecap:butt;stroke-linejoin:miter;stroke:rgb(80%,80%,80%);stroke-opacity:1;stroke-miterlimit:10;\" d=\"M 222.652344 276.640625 L 245.53125 354.507813 \"/>\n",
       "<path style=\"fill:none;stroke-width:1;stroke-linecap:butt;stroke-linejoin:miter;stroke:rgb(20%,20%,20%);stroke-opacity:1;stroke-miterlimit:10;\" d=\"M 222.652344 276.640625 L 274.878906 330.707031 \"/>\n",
       "<path style=\"fill:none;stroke-width:1;stroke-linecap:butt;stroke-linejoin:miter;stroke:rgb(20%,20%,20%);stroke-opacity:1;stroke-miterlimit:10;\" d=\"M 273.378906 175.730469 L 247.121094 125.570313 \"/>\n",
       "<path style=\"fill:none;stroke-width:1;stroke-linecap:butt;stroke-linejoin:miter;stroke:rgb(20%,20%,20%);stroke-opacity:1;stroke-miterlimit:10;\" d=\"M 273.378906 175.730469 L 292.40625 30.011719 \"/>\n",
       "<path style=\"fill:none;stroke-width:1;stroke-linecap:butt;stroke-linejoin:miter;stroke:rgb(20%,20%,20%);stroke-opacity:1;stroke-miterlimit:10;\" d=\"M 273.378906 175.730469 L 274.878906 330.707031 \"/>\n",
       "<path style=\"fill:none;stroke-width:1;stroke-linecap:butt;stroke-linejoin:miter;stroke:rgb(20%,20%,20%);stroke-opacity:1;stroke-miterlimit:10;\" d=\"M 443.210938 273.355469 L 461.367188 155.625 \"/>\n",
       "<path style=\"fill:none;stroke-width:1;stroke-linecap:butt;stroke-linejoin:miter;stroke:rgb(20%,20%,20%);stroke-opacity:1;stroke-miterlimit:10;\" d=\"M 443.210938 273.355469 L 442.464844 355.894531 \"/>\n",
       "<path style=\"fill:none;stroke-width:1;stroke-linecap:butt;stroke-linejoin:miter;stroke:rgb(20%,20%,20%);stroke-opacity:1;stroke-miterlimit:10;\" d=\"M 474.074219 247.269531 L 461.367188 155.625 \"/>\n",
       "<path style=\"fill:none;stroke-width:1;stroke-linecap:butt;stroke-linejoin:miter;stroke:rgb(20%,20%,20%);stroke-opacity:1;stroke-miterlimit:10;\" d=\"M 474.074219 247.269531 L 442.464844 355.894531 \"/>\n",
       "<path style=\"fill:none;stroke-width:1;stroke-linecap:butt;stroke-linejoin:miter;stroke:rgb(20%,20%,20%);stroke-opacity:1;stroke-miterlimit:10;\" d=\"M 474.074219 247.269531 L 580 185.953125 \"/>\n",
       "<path style=\"fill:none;stroke-width:1;stroke-linecap:butt;stroke-linejoin:miter;stroke:rgb(20%,20%,20%);stroke-opacity:1;stroke-miterlimit:10;\" d=\"M 461.367188 155.625 L 580 185.953125 \"/>\n",
       "<path style=\"fill:none;stroke-width:1;stroke-linecap:butt;stroke-linejoin:miter;stroke:rgb(20%,20%,20%);stroke-opacity:1;stroke-miterlimit:10;\" d=\"M 245.53125 354.507813 L 255.292969 440.796875 \"/>\n",
       "<path style=\"fill:none;stroke-width:1;stroke-linecap:butt;stroke-linejoin:miter;stroke:rgb(20%,20%,20%);stroke-opacity:1;stroke-miterlimit:10;\" d=\"M 245.53125 354.507813 L 133.050781 404.007813 \"/>\n",
       "<path style=\"fill:none;stroke-width:1;stroke-linecap:butt;stroke-linejoin:miter;stroke:rgb(20%,20%,20%);stroke-opacity:1;stroke-miterlimit:10;\" d=\"M 245.53125 354.507813 L 156.65625 421.148438 \"/>\n",
       "<path style=\"fill:none;stroke-width:1;stroke-linecap:butt;stroke-linejoin:miter;stroke:rgb(80%,80%,80%);stroke-opacity:1;stroke-miterlimit:10;\" d=\"M 256.152344 493.175781 L 156.65625 421.148438 \"/>\n",
       "<path style=\"fill:none;stroke-width:1;stroke-linecap:butt;stroke-linejoin:miter;stroke:rgb(80%,80%,80%);stroke-opacity:1;stroke-miterlimit:10;\" d=\"M 274.878906 330.707031 L 156.65625 421.148438 \"/>\n",
       "<path style=\"fill:none;stroke-width:1;stroke-linecap:butt;stroke-linejoin:miter;stroke:rgb(20%,20%,20%);stroke-opacity:1;stroke-miterlimit:10;\" d=\"M 36.527344 448.554688 L 133.050781 404.007813 \"/>\n",
       "<path style=\"fill:none;stroke-width:1;stroke-linecap:butt;stroke-linejoin:miter;stroke:rgb(20%,20%,20%);stroke-opacity:1;stroke-miterlimit:10;\" d=\"M 36.527344 448.554688 L 156.65625 421.148438 \"/>\n",
       "<path style=\"fill:none;stroke-width:1;stroke-linecap:butt;stroke-linejoin:miter;stroke:rgb(20%,20%,20%);stroke-opacity:1;stroke-miterlimit:10;\" d=\"M 201.660156 577.789063 L 133.050781 404.007813 \"/>\n",
       "<path style=\"fill:none;stroke-width:1;stroke-linecap:butt;stroke-linejoin:miter;stroke:rgb(20%,20%,20%);stroke-opacity:1;stroke-miterlimit:10;\" d=\"M 201.660156 577.789063 L 156.65625 421.148438 \"/>\n",
       "<path style=\"fill:none;stroke-width:1;stroke-linecap:butt;stroke-linejoin:miter;stroke:rgb(20%,20%,20%);stroke-opacity:1;stroke-miterlimit:10;\" d=\"M 159.949219 580 L 133.050781 404.007813 \"/>\n",
       "<path style=\"fill:none;stroke-width:1;stroke-linecap:butt;stroke-linejoin:miter;stroke:rgb(20%,20%,20%);stroke-opacity:1;stroke-miterlimit:10;\" d=\"M 159.949219 580 L 156.65625 421.148438 \"/>\n",
       "<path style=\"fill:none;stroke-width:1;stroke-linecap:butt;stroke-linejoin:miter;stroke:rgb(80%,80%,80%);stroke-opacity:1;stroke-miterlimit:10;\" d=\"M 308.300781 393.296875 L 156.65625 421.148438 \"/>\n",
       "<path style=\"fill:none;stroke-width:1;stroke-linecap:butt;stroke-linejoin:miter;stroke:rgb(20%,20%,20%);stroke-opacity:1;stroke-miterlimit:10;\" d=\"M 81.300781 533.671875 L 133.050781 404.007813 \"/>\n",
       "<path style=\"fill:none;stroke-width:1;stroke-linecap:butt;stroke-linejoin:miter;stroke:rgb(20%,20%,20%);stroke-opacity:1;stroke-miterlimit:10;\" d=\"M 81.300781 533.671875 L 156.65625 421.148438 \"/>\n",
       "<path style=\"fill:none;stroke-width:1;stroke-linecap:butt;stroke-linejoin:miter;stroke:rgb(20%,20%,20%);stroke-opacity:1;stroke-miterlimit:10;\" d=\"M 117.835938 569.132813 L 133.050781 404.007813 \"/>\n",
       "<path style=\"fill:none;stroke-width:1;stroke-linecap:butt;stroke-linejoin:miter;stroke:rgb(20%,20%,20%);stroke-opacity:1;stroke-miterlimit:10;\" d=\"M 117.835938 569.132813 L 156.65625 421.148438 \"/>\n",
       "<path style=\"fill:none;stroke-width:1;stroke-linecap:butt;stroke-linejoin:miter;stroke:rgb(20%,20%,20%);stroke-opacity:1;stroke-miterlimit:10;\" d=\"M 33.132813 307.003906 L 44.699219 144.859375 \"/>\n",
       "<path style=\"fill:none;stroke-width:1;stroke-linecap:butt;stroke-linejoin:miter;stroke:rgb(20%,20%,20%);stroke-opacity:1;stroke-miterlimit:10;\" d=\"M 33.132813 307.003906 L 106.742188 243.183594 \"/>\n",
       "<path style=\"fill:none;stroke-width:1;stroke-linecap:butt;stroke-linejoin:miter;stroke:rgb(80%,80%,80%);stroke-opacity:1;stroke-miterlimit:10;\" d=\"M 33.132813 307.003906 L 133.050781 404.007813 \"/>\n",
       "<path style=\"fill:none;stroke-width:1;stroke-linecap:butt;stroke-linejoin:miter;stroke:rgb(80%,80%,80%);stroke-opacity:1;stroke-miterlimit:10;\" d=\"M 33.132813 307.003906 L 156.65625 421.148438 \"/>\n",
       "<path style=\"fill:none;stroke-width:1;stroke-linecap:butt;stroke-linejoin:miter;stroke:rgb(80%,80%,80%);stroke-opacity:1;stroke-miterlimit:10;\" d=\"M 33.132813 307.003906 L 20 395.699219 \"/>\n",
       "<path style=\"fill:none;stroke-width:1;stroke-linecap:butt;stroke-linejoin:miter;stroke:rgb(20%,20%,20%);stroke-opacity:1;stroke-miterlimit:10;\" d=\"M 103.617188 85.117188 L 44.699219 144.859375 \"/>\n",
       "<path style=\"fill:none;stroke-width:1;stroke-linecap:butt;stroke-linejoin:miter;stroke:rgb(20%,20%,20%);stroke-opacity:1;stroke-miterlimit:10;\" d=\"M 103.617188 85.117188 L 106.742188 243.183594 \"/>\n",
       "<path style=\"fill:none;stroke-width:1;stroke-linecap:butt;stroke-linejoin:miter;stroke:rgb(20%,20%,20%);stroke-opacity:1;stroke-miterlimit:10;\" d=\"M 103.617188 85.117188 L 176.289063 231.199219 \"/>\n",
       "<path style=\"fill:none;stroke-width:1;stroke-linecap:butt;stroke-linejoin:miter;stroke:rgb(20%,20%,20%);stroke-opacity:1;stroke-miterlimit:10;\" d=\"M 44.699219 144.859375 L 176.289063 231.199219 \"/>\n",
       "<path style=\"fill:none;stroke-width:1;stroke-linecap:butt;stroke-linejoin:miter;stroke:rgb(20%,20%,20%);stroke-opacity:1;stroke-miterlimit:10;\" d=\"M 25.058594 514.578125 L 20 395.699219 \"/>\n",
       "<path style=\"fill:none;stroke-width:1;stroke-linecap:butt;stroke-linejoin:miter;stroke:rgb(20%,20%,20%);stroke-opacity:1;stroke-miterlimit:10;\" d=\"M 25.058594 514.578125 L 156.65625 421.148438 \"/>\n",
       "<path style=\"fill:none;stroke-width:1;stroke-linecap:butt;stroke-linejoin:miter;stroke:rgb(80%,80%,80%);stroke-opacity:1;stroke-miterlimit:10;\" d=\"M 106.742188 243.183594 L 156.65625 421.148438 \"/>\n",
       "<path style=\"fill:none;stroke-width:1;stroke-linecap:butt;stroke-linejoin:miter;stroke:rgb(20%,20%,20%);stroke-opacity:1;stroke-miterlimit:10;\" d=\"M 117.960938 299.453125 L 176.289063 231.199219 \"/>\n",
       "<path style=\"fill:none;stroke-width:1;stroke-linecap:butt;stroke-linejoin:miter;stroke:rgb(80%,80%,80%);stroke-opacity:1;stroke-miterlimit:10;\" d=\"M 117.960938 299.453125 L 156.65625 421.148438 \"/>\n",
       "<path style=\"fill:none;stroke-width:1;stroke-linecap:butt;stroke-linejoin:miter;stroke:rgb(20%,20%,20%);stroke-opacity:1;stroke-miterlimit:10;\" d=\"M 20 395.699219 L 133.050781 404.007813 \"/>\n",
       "<path style=\"fill:none;stroke-width:1;stroke-linecap:butt;stroke-linejoin:miter;stroke:rgb(20%,20%,20%);stroke-opacity:1;stroke-miterlimit:10;\" d=\"M 20 395.699219 L 156.65625 421.148438 \"/>\n",
       "<path style=\"fill:none;stroke-width:1;stroke-linecap:butt;stroke-linejoin:miter;stroke:rgb(20%,20%,20%);stroke-opacity:1;stroke-miterlimit:10;\" d=\"M 255.292969 440.796875 L 133.050781 404.007813 \"/>\n",
       "<path style=\"fill:none;stroke-width:1;stroke-linecap:butt;stroke-linejoin:miter;stroke:rgb(20%,20%,20%);stroke-opacity:1;stroke-miterlimit:10;\" d=\"M 255.292969 440.796875 L 156.65625 421.148438 \"/>\n",
       "<path style=\"fill:none;stroke-width:1;stroke-linecap:butt;stroke-linejoin:miter;stroke:rgb(80%,80%,80%);stroke-opacity:1;stroke-miterlimit:10;\" d=\"M 176.289063 231.199219 L 133.050781 404.007813 \"/>\n",
       "<path style=\"fill:none;stroke-width:1;stroke-linecap:butt;stroke-linejoin:miter;stroke:rgb(80%,80%,80%);stroke-opacity:1;stroke-miterlimit:10;\" d=\"M 176.289063 231.199219 L 156.65625 421.148438 \"/>\n",
       "<path style=\"fill:none;stroke-width:1;stroke-linecap:butt;stroke-linejoin:miter;stroke:rgb(20%,20%,20%);stroke-opacity:1;stroke-miterlimit:10;\" d=\"M 133.050781 404.007813 L 156.65625 421.148438 \"/>\n",
       "<path style=\"fill-rule:nonzero;fill:rgb(0%,100%,0%);fill-opacity:1;stroke-width:1;stroke-linecap:butt;stroke-linejoin:miter;stroke:rgb(0%,0%,0%);stroke-opacity:1;stroke-miterlimit:10;\" d=\"M 343.183594 213.027344 C 343.183594 218.550781 338.703125 223.027344 333.183594 223.027344 C 327.660156 223.027344 323.183594 218.550781 323.183594 213.027344 C 323.183594 207.507813 327.660156 203.027344 333.183594 203.027344 C 338.703125 203.027344 343.183594 207.507813 343.183594 213.027344 \"/>\n",
       "<path style=\"fill-rule:nonzero;fill:rgb(0%,100%,0%);fill-opacity:1;stroke-width:1;stroke-linecap:butt;stroke-linejoin:miter;stroke:rgb(0%,0%,0%);stroke-opacity:1;stroke-miterlimit:10;\" d=\"M 337.554688 269.289063 C 337.554688 274.808594 333.078125 279.289063 327.554688 279.289063 C 322.035156 279.289063 317.554688 274.808594 317.554688 269.289063 C 317.554688 263.765625 322.035156 259.289063 327.554688 259.289063 C 333.078125 259.289063 337.554688 263.765625 337.554688 269.289063 \"/>\n",
       "<path style=\"fill-rule:nonzero;fill:rgb(0%,100%,0%);fill-opacity:1;stroke-width:1;stroke-linecap:butt;stroke-linejoin:miter;stroke:rgb(0%,0%,0%);stroke-opacity:1;stroke-miterlimit:10;\" d=\"M 232.652344 276.640625 C 232.652344 282.164063 228.171875 286.640625 222.652344 286.640625 C 217.128906 286.640625 212.652344 282.164063 212.652344 276.640625 C 212.652344 271.117188 217.128906 266.640625 222.652344 266.640625 C 228.171875 266.640625 232.652344 271.117188 232.652344 276.640625 \"/>\n",
       "<path style=\"fill-rule:nonzero;fill:rgb(0%,100%,0%);fill-opacity:1;stroke-width:1;stroke-linecap:butt;stroke-linejoin:miter;stroke:rgb(0%,0%,0%);stroke-opacity:1;stroke-miterlimit:10;\" d=\"M 283.378906 175.730469 C 283.378906 181.253906 278.902344 185.730469 273.378906 185.730469 C 267.859375 185.730469 263.378906 181.253906 263.378906 175.730469 C 263.378906 170.207031 267.859375 165.730469 273.378906 165.730469 C 278.902344 165.730469 283.378906 170.207031 283.378906 175.730469 \"/>\n",
       "<path style=\"fill-rule:nonzero;fill:rgb(100%,0%,0%);fill-opacity:1;stroke-width:1;stroke-linecap:butt;stroke-linejoin:miter;stroke:rgb(0%,0%,0%);stroke-opacity:1;stroke-miterlimit:10;\" d=\"M 453.210938 273.355469 C 453.210938 278.878906 448.730469 283.355469 443.210938 283.355469 C 437.6875 283.355469 433.210938 278.878906 433.210938 273.355469 C 433.210938 267.832031 437.6875 263.355469 443.210938 263.355469 C 448.730469 263.355469 453.210938 267.832031 453.210938 273.355469 \"/>\n",
       "<path style=\"fill-rule:nonzero;fill:rgb(100%,0%,0%);fill-opacity:1;stroke-width:1;stroke-linecap:butt;stroke-linejoin:miter;stroke:rgb(0%,0%,0%);stroke-opacity:1;stroke-miterlimit:10;\" d=\"M 484.074219 247.269531 C 484.074219 252.792969 479.597656 257.269531 474.074219 257.269531 C 468.554688 257.269531 464.074219 252.792969 464.074219 247.269531 C 464.074219 241.746094 468.554688 237.269531 474.074219 237.269531 C 479.597656 237.269531 484.074219 241.746094 484.074219 247.269531 \"/>\n",
       "<path style=\"fill-rule:nonzero;fill:rgb(100%,0%,0%);fill-opacity:1;stroke-width:1;stroke-linecap:butt;stroke-linejoin:miter;stroke:rgb(0%,0%,0%);stroke-opacity:1;stroke-miterlimit:10;\" d=\"M 471.367188 155.625 C 471.367188 161.148438 466.890625 165.625 461.367188 165.625 C 455.84375 165.625 451.367188 161.148438 451.367188 155.625 C 451.367188 150.105469 455.84375 145.625 461.367188 145.625 C 466.890625 145.625 471.367188 150.105469 471.367188 155.625 \"/>\n",
       "<path style=\"fill-rule:nonzero;fill:rgb(0%,100%,0%);fill-opacity:1;stroke-width:1;stroke-linecap:butt;stroke-linejoin:miter;stroke:rgb(0%,0%,0%);stroke-opacity:1;stroke-miterlimit:10;\" d=\"M 257.121094 125.570313 C 257.121094 131.09375 252.644531 135.570313 247.121094 135.570313 C 241.597656 135.570313 237.121094 131.09375 237.121094 125.570313 C 237.121094 120.050781 241.597656 115.570313 247.121094 115.570313 C 252.644531 115.570313 257.121094 120.050781 257.121094 125.570313 \"/>\n",
       "<path style=\"fill-rule:nonzero;fill:rgb(100%,100%,0%);fill-opacity:1;stroke-width:1;stroke-linecap:butt;stroke-linejoin:miter;stroke:rgb(0%,0%,0%);stroke-opacity:1;stroke-miterlimit:10;\" d=\"M 255.53125 354.507813 C 255.53125 360.027344 251.050781 364.507813 245.53125 364.507813 C 240.007813 364.507813 235.53125 360.027344 235.53125 354.507813 C 235.53125 348.984375 240.007813 344.507813 245.53125 344.507813 C 251.050781 344.507813 255.53125 348.984375 255.53125 354.507813 \"/>\n",
       "<path style=\"fill-rule:nonzero;fill:rgb(0%,100%,0%);fill-opacity:1;stroke-width:1;stroke-linecap:butt;stroke-linejoin:miter;stroke:rgb(0%,0%,0%);stroke-opacity:1;stroke-miterlimit:10;\" d=\"M 266.152344 493.175781 C 266.152344 498.699219 261.675781 503.175781 256.152344 503.175781 C 250.628906 503.175781 246.152344 498.699219 246.152344 493.175781 C 246.152344 487.652344 250.628906 483.175781 256.152344 483.175781 C 261.675781 483.175781 266.152344 487.652344 266.152344 493.175781 \"/>\n",
       "<path style=\"fill-rule:nonzero;fill:rgb(100%,0%,0%);fill-opacity:1;stroke-width:1;stroke-linecap:butt;stroke-linejoin:miter;stroke:rgb(0%,0%,0%);stroke-opacity:1;stroke-miterlimit:10;\" d=\"M 452.464844 355.894531 C 452.464844 361.414063 447.988281 365.894531 442.464844 365.894531 C 436.945313 365.894531 432.464844 361.414063 432.464844 355.894531 C 432.464844 350.371094 436.945313 345.894531 442.464844 345.894531 C 447.988281 345.894531 452.464844 350.371094 452.464844 355.894531 \"/>\n",
       "<path style=\"fill-rule:nonzero;fill:rgb(0%,100%,0%);fill-opacity:1;stroke-width:1;stroke-linecap:butt;stroke-linejoin:miter;stroke:rgb(0%,0%,0%);stroke-opacity:1;stroke-miterlimit:10;\" d=\"M 364.386719 20 C 364.386719 25.523438 359.910156 30 354.386719 30 C 348.863281 30 344.386719 25.523438 344.386719 20 C 344.386719 14.476563 348.863281 10 354.386719 10 C 359.910156 10 364.386719 14.476563 364.386719 20 \"/>\n",
       "<path style=\"fill-rule:nonzero;fill:rgb(0%,100%,0%);fill-opacity:1;stroke-width:1;stroke-linecap:butt;stroke-linejoin:miter;stroke:rgb(0%,0%,0%);stroke-opacity:1;stroke-miterlimit:10;\" d=\"M 302.40625 30.011719 C 302.40625 35.535156 297.929688 40.011719 292.40625 40.011719 C 286.882813 40.011719 282.40625 35.535156 282.40625 30.011719 C 282.40625 24.488281 286.882813 20.011719 292.40625 20.011719 C 297.929688 20.011719 302.40625 24.488281 302.40625 30.011719 \"/>\n",
       "<path style=\"fill-rule:nonzero;fill:rgb(0%,100%,0%);fill-opacity:1;stroke-width:1;stroke-linecap:butt;stroke-linejoin:miter;stroke:rgb(0%,0%,0%);stroke-opacity:1;stroke-miterlimit:10;\" d=\"M 284.878906 330.707031 C 284.878906 336.230469 280.398438 340.707031 274.878906 340.707031 C 269.355469 340.707031 264.878906 336.230469 264.878906 330.707031 C 264.878906 325.1875 269.355469 320.707031 274.878906 320.707031 C 280.398438 320.707031 284.878906 325.1875 284.878906 330.707031 \"/>\n",
       "<path style=\"fill-rule:nonzero;fill:rgb(100%,100%,0%);fill-opacity:1;stroke-width:1;stroke-linecap:butt;stroke-linejoin:miter;stroke:rgb(0%,0%,0%);stroke-opacity:1;stroke-miterlimit:10;\" d=\"M 46.527344 448.554688 C 46.527344 454.078125 42.050781 458.554688 36.527344 458.554688 C 31.003906 458.554688 26.527344 454.078125 26.527344 448.554688 C 26.527344 443.03125 31.003906 438.554688 36.527344 438.554688 C 42.050781 438.554688 46.527344 443.03125 46.527344 448.554688 \"/>\n",
       "<path style=\"fill-rule:nonzero;fill:rgb(100%,100%,0%);fill-opacity:1;stroke-width:1;stroke-linecap:butt;stroke-linejoin:miter;stroke:rgb(0%,0%,0%);stroke-opacity:1;stroke-miterlimit:10;\" d=\"M 211.660156 577.789063 C 211.660156 583.3125 207.179688 587.789063 201.660156 587.789063 C 196.136719 587.789063 191.660156 583.3125 191.660156 577.789063 C 191.660156 572.265625 196.136719 567.789063 201.660156 567.789063 C 207.179688 567.789063 211.660156 572.265625 211.660156 577.789063 \"/>\n",
       "<path style=\"fill-rule:nonzero;fill:rgb(100%,0%,0%);fill-opacity:1;stroke-width:1;stroke-linecap:butt;stroke-linejoin:miter;stroke:rgb(0%,0%,0%);stroke-opacity:1;stroke-miterlimit:10;\" d=\"M 590 185.953125 C 590 191.476563 585.523438 195.953125 580 195.953125 C 574.476563 195.953125 570 191.476563 570 185.953125 C 570 180.429688 574.476563 175.953125 580 175.953125 C 585.523438 175.953125 590 180.429688 590 185.953125 \"/>\n",
       "<path style=\"fill-rule:nonzero;fill:rgb(0%,100%,0%);fill-opacity:1;stroke-width:1;stroke-linecap:butt;stroke-linejoin:miter;stroke:rgb(0%,0%,0%);stroke-opacity:1;stroke-miterlimit:10;\" d=\"M 416.785156 143.066406 C 416.785156 148.589844 412.308594 153.066406 406.785156 153.066406 C 401.261719 153.066406 396.785156 148.589844 396.785156 143.066406 C 396.785156 137.542969 401.261719 133.066406 406.785156 133.066406 C 412.308594 133.066406 416.785156 137.542969 416.785156 143.066406 \"/>\n",
       "<path style=\"fill-rule:nonzero;fill:rgb(100%,100%,0%);fill-opacity:1;stroke-width:1;stroke-linecap:butt;stroke-linejoin:miter;stroke:rgb(0%,0%,0%);stroke-opacity:1;stroke-miterlimit:10;\" d=\"M 169.949219 580 C 169.949219 585.523438 165.472656 590 159.949219 590 C 154.429688 590 149.949219 585.523438 149.949219 580 C 149.949219 574.476563 154.429688 570 159.949219 570 C 165.472656 570 169.949219 574.476563 169.949219 580 \"/>\n",
       "<path style=\"fill-rule:nonzero;fill:rgb(0%,100%,0%);fill-opacity:1;stroke-width:1;stroke-linecap:butt;stroke-linejoin:miter;stroke:rgb(0%,0%,0%);stroke-opacity:1;stroke-miterlimit:10;\" d=\"M 318.300781 393.296875 C 318.300781 398.816406 313.824219 403.296875 308.300781 403.296875 C 302.777344 403.296875 298.300781 398.816406 298.300781 393.296875 C 298.300781 387.773438 302.777344 383.296875 308.300781 383.296875 C 313.824219 383.296875 318.300781 387.773438 318.300781 393.296875 \"/>\n",
       "<path style=\"fill-rule:nonzero;fill:rgb(100%,100%,0%);fill-opacity:1;stroke-width:1;stroke-linecap:butt;stroke-linejoin:miter;stroke:rgb(0%,0%,0%);stroke-opacity:1;stroke-miterlimit:10;\" d=\"M 91.300781 533.671875 C 91.300781 539.195313 86.824219 543.671875 81.300781 543.671875 C 75.777344 543.671875 71.300781 539.195313 71.300781 533.671875 C 71.300781 528.148438 75.777344 523.671875 81.300781 523.671875 C 86.824219 523.671875 91.300781 528.148438 91.300781 533.671875 \"/>\n",
       "<path style=\"fill-rule:nonzero;fill:rgb(0%,100%,0%);fill-opacity:1;stroke-width:1;stroke-linecap:butt;stroke-linejoin:miter;stroke:rgb(0%,0%,0%);stroke-opacity:1;stroke-miterlimit:10;\" d=\"M 379.800781 93.820313 C 379.800781 99.34375 375.324219 103.820313 369.800781 103.820313 C 364.28125 103.820313 359.800781 99.34375 359.800781 93.820313 C 359.800781 88.296875 364.28125 83.820313 369.800781 83.820313 C 375.324219 83.820313 379.800781 88.296875 379.800781 93.820313 \"/>\n",
       "<path style=\"fill-rule:nonzero;fill:rgb(100%,100%,0%);fill-opacity:1;stroke-width:1;stroke-linecap:butt;stroke-linejoin:miter;stroke:rgb(0%,0%,0%);stroke-opacity:1;stroke-miterlimit:10;\" d=\"M 127.835938 569.132813 C 127.835938 574.65625 123.359375 579.132813 117.835938 579.132813 C 112.3125 579.132813 107.835938 574.65625 107.835938 569.132813 C 107.835938 563.609375 112.3125 559.132813 117.835938 559.132813 C 123.359375 559.132813 127.835938 563.609375 127.835938 569.132813 \"/>\n",
       "<path style=\"fill-rule:nonzero;fill:rgb(0%,0%,100%);fill-opacity:1;stroke-width:1;stroke-linecap:butt;stroke-linejoin:miter;stroke:rgb(0%,0%,0%);stroke-opacity:1;stroke-miterlimit:10;\" d=\"M 43.132813 307.003906 C 43.132813 312.523438 38.65625 317.003906 33.132813 317.003906 C 27.613281 317.003906 23.132813 312.523438 23.132813 307.003906 C 23.132813 301.480469 27.613281 297.003906 33.132813 297.003906 C 38.65625 297.003906 43.132813 301.480469 43.132813 307.003906 \"/>\n",
       "<path style=\"fill-rule:nonzero;fill:rgb(0%,0%,100%);fill-opacity:1;stroke-width:1;stroke-linecap:butt;stroke-linejoin:miter;stroke:rgb(0%,0%,0%);stroke-opacity:1;stroke-miterlimit:10;\" d=\"M 113.617188 85.117188 C 113.617188 90.640625 109.140625 95.117188 103.617188 95.117188 C 98.09375 95.117188 93.617188 90.640625 93.617188 85.117188 C 93.617188 79.59375 98.09375 75.117188 103.617188 75.117188 C 109.140625 75.117188 113.617188 79.59375 113.617188 85.117188 \"/>\n",
       "<path style=\"fill-rule:nonzero;fill:rgb(0%,0%,100%);fill-opacity:1;stroke-width:1;stroke-linecap:butt;stroke-linejoin:miter;stroke:rgb(0%,0%,0%);stroke-opacity:1;stroke-miterlimit:10;\" d=\"M 54.699219 144.859375 C 54.699219 150.382813 50.222656 154.859375 44.699219 154.859375 C 39.175781 154.859375 34.699219 150.382813 34.699219 144.859375 C 34.699219 139.335938 39.175781 134.859375 44.699219 134.859375 C 50.222656 134.859375 54.699219 139.335938 54.699219 144.859375 \"/>\n",
       "<path style=\"fill-rule:nonzero;fill:rgb(100%,100%,0%);fill-opacity:1;stroke-width:1;stroke-linecap:butt;stroke-linejoin:miter;stroke:rgb(0%,0%,0%);stroke-opacity:1;stroke-miterlimit:10;\" d=\"M 35.058594 514.578125 C 35.058594 520.101563 30.582031 524.578125 25.058594 524.578125 C 19.535156 524.578125 15.058594 520.101563 15.058594 514.578125 C 15.058594 509.054688 19.535156 504.578125 25.058594 504.578125 C 30.582031 504.578125 35.058594 509.054688 35.058594 514.578125 \"/>\n",
       "<path style=\"fill-rule:nonzero;fill:rgb(0%,0%,100%);fill-opacity:1;stroke-width:1;stroke-linecap:butt;stroke-linejoin:miter;stroke:rgb(0%,0%,0%);stroke-opacity:1;stroke-miterlimit:10;\" d=\"M 116.742188 243.183594 C 116.742188 248.703125 112.265625 253.183594 106.742188 253.183594 C 101.21875 253.183594 96.742188 248.703125 96.742188 243.183594 C 96.742188 237.660156 101.21875 233.183594 106.742188 233.183594 C 112.265625 233.183594 116.742188 237.660156 116.742188 243.183594 \"/>\n",
       "<path style=\"fill-rule:nonzero;fill:rgb(0%,0%,100%);fill-opacity:1;stroke-width:1;stroke-linecap:butt;stroke-linejoin:miter;stroke:rgb(0%,0%,0%);stroke-opacity:1;stroke-miterlimit:10;\" d=\"M 127.960938 299.453125 C 127.960938 304.976563 123.484375 309.453125 117.960938 309.453125 C 112.4375 309.453125 107.960938 304.976563 107.960938 299.453125 C 107.960938 293.929688 112.4375 289.453125 117.960938 289.453125 C 123.484375 289.453125 127.960938 293.929688 127.960938 299.453125 \"/>\n",
       "<path style=\"fill-rule:nonzero;fill:rgb(100%,100%,0%);fill-opacity:1;stroke-width:1;stroke-linecap:butt;stroke-linejoin:miter;stroke:rgb(0%,0%,0%);stroke-opacity:1;stroke-miterlimit:10;\" d=\"M 30 395.699219 C 30 401.21875 25.523438 405.699219 20 405.699219 C 14.476563 405.699219 10 401.21875 10 395.699219 C 10 390.175781 14.476563 385.699219 20 385.699219 C 25.523438 385.699219 30 390.175781 30 395.699219 \"/>\n",
       "<path style=\"fill-rule:nonzero;fill:rgb(100%,100%,0%);fill-opacity:1;stroke-width:1;stroke-linecap:butt;stroke-linejoin:miter;stroke:rgb(0%,0%,0%);stroke-opacity:1;stroke-miterlimit:10;\" d=\"M 265.292969 440.796875 C 265.292969 446.320313 260.816406 450.796875 255.292969 450.796875 C 249.773438 450.796875 245.292969 446.320313 245.292969 440.796875 C 245.292969 435.273438 249.773438 430.796875 255.292969 430.796875 C 260.816406 430.796875 265.292969 435.273438 265.292969 440.796875 \"/>\n",
       "<path style=\"fill-rule:nonzero;fill:rgb(0%,0%,100%);fill-opacity:1;stroke-width:1;stroke-linecap:butt;stroke-linejoin:miter;stroke:rgb(0%,0%,0%);stroke-opacity:1;stroke-miterlimit:10;\" d=\"M 186.289063 231.199219 C 186.289063 236.722656 181.8125 241.199219 176.289063 241.199219 C 170.765625 241.199219 166.289063 236.722656 166.289063 231.199219 C 166.289063 225.675781 170.765625 221.199219 176.289063 221.199219 C 181.8125 221.199219 186.289063 225.675781 186.289063 231.199219 \"/>\n",
       "<path style=\"fill-rule:nonzero;fill:rgb(100%,100%,0%);fill-opacity:1;stroke-width:1;stroke-linecap:butt;stroke-linejoin:miter;stroke:rgb(0%,0%,0%);stroke-opacity:1;stroke-miterlimit:10;\" d=\"M 143.050781 404.007813 C 143.050781 409.53125 138.574219 414.007813 133.050781 414.007813 C 127.53125 414.007813 123.050781 409.53125 123.050781 404.007813 C 123.050781 398.484375 127.53125 394.007813 133.050781 394.007813 C 138.574219 394.007813 143.050781 398.484375 143.050781 404.007813 \"/>\n",
       "<path style=\"fill-rule:nonzero;fill:rgb(100%,100%,0%);fill-opacity:1;stroke-width:1;stroke-linecap:butt;stroke-linejoin:miter;stroke:rgb(0%,0%,0%);stroke-opacity:1;stroke-miterlimit:10;\" d=\"M 166.65625 421.148438 C 166.65625 426.671875 162.179688 431.148438 156.65625 431.148438 C 151.136719 431.148438 146.65625 426.671875 146.65625 421.148438 C 146.65625 415.625 151.136719 411.148438 156.65625 411.148438 C 162.179688 411.148438 166.65625 415.625 166.65625 421.148438 \"/>\n",
       "</g>\n",
       "</svg>\n"
      ],
      "text/plain": [
       "<igraph.drawing.Plot at 0x5cd5d30>"
      ]
     },
     "execution_count": 3,
     "metadata": {},
     "output_type": "execute_result"
    }
   ],
   "source": [
    "ig.plot(G.community_multilevel())"
   ]
  },
  {
   "cell_type": "code",
   "execution_count": null,
   "metadata": {
    "collapsed": true
   },
   "outputs": [],
   "source": []
  }
 ],
 "metadata": {
  "kernelspec": {
   "display_name": "Python 3",
   "language": "python",
   "name": "python3"
  },
  "language_info": {
   "codemirror_mode": {
    "name": "ipython",
    "version": 3
   },
   "file_extension": ".py",
   "mimetype": "text/x-python",
   "name": "python",
   "nbconvert_exporter": "python",
   "pygments_lexer": "ipython3",
   "version": "3.6.3"
  }
 },
 "nbformat": 4,
 "nbformat_minor": 2
}
