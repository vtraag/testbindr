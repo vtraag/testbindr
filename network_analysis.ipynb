{
 "cells": [
  {
   "cell_type": "code",
   "execution_count": 4,
   "metadata": {
    "collapsed": true
   },
   "outputs": [],
   "source": [
    "import igraph as ig"
   ]
  },
  {
   "cell_type": "code",
   "execution_count": 5,
   "metadata": {
    "collapsed": true
   },
   "outputs": [],
   "source": [
    "G = ig.Graph.Famous('Zachary')"
   ]
  },
  {
   "cell_type": "code",
   "execution_count": 6,
   "metadata": {},
   "outputs": [
    {
     "data": {
      "image/svg+xml": [
       "<?xml version=\"1.0\" encoding=\"UTF-8\"?>\n",
       "<svg xmlns=\"http://www.w3.org/2000/svg\" xmlns:xlink=\"http://www.w3.org/1999/xlink\" width=\"600pt\" height=\"600pt\" viewBox=\"0 0 600 600\" version=\"1.1\">\n",
       "<g id=\"surface8\">\n",
       "<rect x=\"0\" y=\"0\" width=\"600\" height=\"600\" style=\"fill:rgb(100%,100%,100%);fill-opacity:1;stroke:none;\"/>\n",
       "<path style=\"fill:none;stroke-width:1;stroke-linecap:butt;stroke-linejoin:miter;stroke:rgb(20%,20%,20%);stroke-opacity:1;stroke-miterlimit:10;\" d=\"M 366.996094 353.859375 L 332.078125 415.167969 \"/>\n",
       "<path style=\"fill:none;stroke-width:1;stroke-linecap:butt;stroke-linejoin:miter;stroke:rgb(20%,20%,20%);stroke-opacity:1;stroke-miterlimit:10;\" d=\"M 366.996094 353.859375 L 262.886719 391.945313 \"/>\n",
       "<path style=\"fill:none;stroke-width:1;stroke-linecap:butt;stroke-linejoin:miter;stroke:rgb(20%,20%,20%);stroke-opacity:1;stroke-miterlimit:10;\" d=\"M 366.996094 353.859375 L 316.535156 543.289063 \"/>\n",
       "<path style=\"fill:none;stroke-width:1;stroke-linecap:butt;stroke-linejoin:miter;stroke:rgb(80%,80%,80%);stroke-opacity:1;stroke-miterlimit:10;\" d=\"M 366.996094 353.859375 L 446.097656 269.839844 \"/>\n",
       "<path style=\"fill:none;stroke-width:1;stroke-linecap:butt;stroke-linejoin:miter;stroke:rgb(80%,80%,80%);stroke-opacity:1;stroke-miterlimit:10;\" d=\"M 366.996094 353.859375 L 475.988281 247.164063 \"/>\n",
       "<path style=\"fill:none;stroke-width:1;stroke-linecap:butt;stroke-linejoin:miter;stroke:rgb(80%,80%,80%);stroke-opacity:1;stroke-miterlimit:10;\" d=\"M 366.996094 353.859375 L 486.070313 358.328125 \"/>\n",
       "<path style=\"fill:none;stroke-width:1;stroke-linecap:butt;stroke-linejoin:miter;stroke:rgb(20%,20%,20%);stroke-opacity:1;stroke-miterlimit:10;\" d=\"M 366.996094 353.859375 L 353.191406 502.300781 \"/>\n",
       "<path style=\"fill:none;stroke-width:1;stroke-linecap:butt;stroke-linejoin:miter;stroke:rgb(80%,80%,80%);stroke-opacity:1;stroke-miterlimit:10;\" d=\"M 366.996094 353.859375 L 244.480469 338.8125 \"/>\n",
       "<path style=\"fill:none;stroke-width:1;stroke-linecap:butt;stroke-linejoin:miter;stroke:rgb(80%,80%,80%);stroke-opacity:1;stroke-miterlimit:10;\" d=\"M 366.996094 353.859375 L 423.257813 159.105469 \"/>\n",
       "<path style=\"fill:none;stroke-width:1;stroke-linecap:butt;stroke-linejoin:miter;stroke:rgb(20%,20%,20%);stroke-opacity:1;stroke-miterlimit:10;\" d=\"M 366.996094 353.859375 L 469.273438 462.761719 \"/>\n",
       "<path style=\"fill:none;stroke-width:1;stroke-linecap:butt;stroke-linejoin:miter;stroke:rgb(20%,20%,20%);stroke-opacity:1;stroke-miterlimit:10;\" d=\"M 366.996094 353.859375 L 406.21875 580 \"/>\n",
       "<path style=\"fill:none;stroke-width:1;stroke-linecap:butt;stroke-linejoin:miter;stroke:rgb(20%,20%,20%);stroke-opacity:1;stroke-miterlimit:10;\" d=\"M 366.996094 353.859375 L 260.480469 469.132813 \"/>\n",
       "<path style=\"fill:none;stroke-width:1;stroke-linecap:butt;stroke-linejoin:miter;stroke:rgb(20%,20%,20%);stroke-opacity:1;stroke-miterlimit:10;\" d=\"M 366.996094 353.859375 L 389.179688 224.925781 \"/>\n",
       "<path style=\"fill:none;stroke-width:1;stroke-linecap:butt;stroke-linejoin:miter;stroke:rgb(20%,20%,20%);stroke-opacity:1;stroke-miterlimit:10;\" d=\"M 366.996094 353.859375 L 281.148438 292.703125 \"/>\n",
       "<path style=\"fill:none;stroke-width:1;stroke-linecap:butt;stroke-linejoin:miter;stroke:rgb(20%,20%,20%);stroke-opacity:1;stroke-miterlimit:10;\" d=\"M 366.996094 353.859375 L 425.984375 500.273438 \"/>\n",
       "<path style=\"fill:none;stroke-width:1;stroke-linecap:butt;stroke-linejoin:miter;stroke:rgb(80%,80%,80%);stroke-opacity:1;stroke-miterlimit:10;\" d=\"M 366.996094 353.859375 L 258.535156 215.832031 \"/>\n",
       "<path style=\"fill:none;stroke-width:1;stroke-linecap:butt;stroke-linejoin:miter;stroke:rgb(20%,20%,20%);stroke-opacity:1;stroke-miterlimit:10;\" d=\"M 332.078125 415.167969 L 262.886719 391.945313 \"/>\n",
       "<path style=\"fill:none;stroke-width:1;stroke-linecap:butt;stroke-linejoin:miter;stroke:rgb(20%,20%,20%);stroke-opacity:1;stroke-miterlimit:10;\" d=\"M 332.078125 415.167969 L 316.535156 543.289063 \"/>\n",
       "<path style=\"fill:none;stroke-width:1;stroke-linecap:butt;stroke-linejoin:miter;stroke:rgb(20%,20%,20%);stroke-opacity:1;stroke-miterlimit:10;\" d=\"M 332.078125 415.167969 L 353.191406 502.300781 \"/>\n",
       "<path style=\"fill:none;stroke-width:1;stroke-linecap:butt;stroke-linejoin:miter;stroke:rgb(20%,20%,20%);stroke-opacity:1;stroke-miterlimit:10;\" d=\"M 332.078125 415.167969 L 260.480469 469.132813 \"/>\n",
       "<path style=\"fill:none;stroke-width:1;stroke-linecap:butt;stroke-linejoin:miter;stroke:rgb(20%,20%,20%);stroke-opacity:1;stroke-miterlimit:10;\" d=\"M 332.078125 415.167969 L 389.179688 224.925781 \"/>\n",
       "<path style=\"fill:none;stroke-width:1;stroke-linecap:butt;stroke-linejoin:miter;stroke:rgb(20%,20%,20%);stroke-opacity:1;stroke-miterlimit:10;\" d=\"M 332.078125 415.167969 L 281.148438 292.703125 \"/>\n",
       "<path style=\"fill:none;stroke-width:1;stroke-linecap:butt;stroke-linejoin:miter;stroke:rgb(20%,20%,20%);stroke-opacity:1;stroke-miterlimit:10;\" d=\"M 332.078125 415.167969 L 425.984375 500.273438 \"/>\n",
       "<path style=\"fill:none;stroke-width:1;stroke-linecap:butt;stroke-linejoin:miter;stroke:rgb(80%,80%,80%);stroke-opacity:1;stroke-miterlimit:10;\" d=\"M 332.078125 415.167969 L 203.710938 472.171875 \"/>\n",
       "<path style=\"fill:none;stroke-width:1;stroke-linecap:butt;stroke-linejoin:miter;stroke:rgb(20%,20%,20%);stroke-opacity:1;stroke-miterlimit:10;\" d=\"M 262.886719 391.945313 L 316.535156 543.289063 \"/>\n",
       "<path style=\"fill:none;stroke-width:1;stroke-linecap:butt;stroke-linejoin:miter;stroke:rgb(20%,20%,20%);stroke-opacity:1;stroke-miterlimit:10;\" d=\"M 262.886719 391.945313 L 353.191406 502.300781 \"/>\n",
       "<path style=\"fill:none;stroke-width:1;stroke-linecap:butt;stroke-linejoin:miter;stroke:rgb(80%,80%,80%);stroke-opacity:1;stroke-miterlimit:10;\" d=\"M 262.886719 391.945313 L 206.707031 179.179688 \"/>\n",
       "<path style=\"fill:none;stroke-width:1;stroke-linecap:butt;stroke-linejoin:miter;stroke:rgb(80%,80%,80%);stroke-opacity:1;stroke-miterlimit:10;\" d=\"M 262.886719 391.945313 L 192.1875 243.414063 \"/>\n",
       "<path style=\"fill:none;stroke-width:1;stroke-linecap:butt;stroke-linejoin:miter;stroke:rgb(80%,80%,80%);stroke-opacity:1;stroke-miterlimit:10;\" d=\"M 262.886719 391.945313 L 142.625 362.785156 \"/>\n",
       "<path style=\"fill:none;stroke-width:1;stroke-linecap:butt;stroke-linejoin:miter;stroke:rgb(20%,20%,20%);stroke-opacity:1;stroke-miterlimit:10;\" d=\"M 262.886719 391.945313 L 181.488281 539.074219 \"/>\n",
       "<path style=\"fill:none;stroke-width:1;stroke-linecap:butt;stroke-linejoin:miter;stroke:rgb(80%,80%,80%);stroke-opacity:1;stroke-miterlimit:10;\" d=\"M 262.886719 391.945313 L 244.480469 338.8125 \"/>\n",
       "<path style=\"fill:none;stroke-width:1;stroke-linecap:butt;stroke-linejoin:miter;stroke:rgb(20%,20%,20%);stroke-opacity:1;stroke-miterlimit:10;\" d=\"M 262.886719 391.945313 L 260.480469 469.132813 \"/>\n",
       "<path style=\"fill:none;stroke-width:1;stroke-linecap:butt;stroke-linejoin:miter;stroke:rgb(20%,20%,20%);stroke-opacity:1;stroke-miterlimit:10;\" d=\"M 316.535156 543.289063 L 353.191406 502.300781 \"/>\n",
       "<path style=\"fill:none;stroke-width:1;stroke-linecap:butt;stroke-linejoin:miter;stroke:rgb(20%,20%,20%);stroke-opacity:1;stroke-miterlimit:10;\" d=\"M 316.535156 543.289063 L 406.21875 580 \"/>\n",
       "<path style=\"fill:none;stroke-width:1;stroke-linecap:butt;stroke-linejoin:miter;stroke:rgb(20%,20%,20%);stroke-opacity:1;stroke-miterlimit:10;\" d=\"M 316.535156 543.289063 L 260.480469 469.132813 \"/>\n",
       "<path style=\"fill:none;stroke-width:1;stroke-linecap:butt;stroke-linejoin:miter;stroke:rgb(20%,20%,20%);stroke-opacity:1;stroke-miterlimit:10;\" d=\"M 446.097656 269.839844 L 486.070313 358.328125 \"/>\n",
       "<path style=\"fill:none;stroke-width:1;stroke-linecap:butt;stroke-linejoin:miter;stroke:rgb(20%,20%,20%);stroke-opacity:1;stroke-miterlimit:10;\" d=\"M 446.097656 269.839844 L 423.257813 159.105469 \"/>\n",
       "<path style=\"fill:none;stroke-width:1;stroke-linecap:butt;stroke-linejoin:miter;stroke:rgb(20%,20%,20%);stroke-opacity:1;stroke-miterlimit:10;\" d=\"M 475.988281 247.164063 L 486.070313 358.328125 \"/>\n",
       "<path style=\"fill:none;stroke-width:1;stroke-linecap:butt;stroke-linejoin:miter;stroke:rgb(20%,20%,20%);stroke-opacity:1;stroke-miterlimit:10;\" d=\"M 475.988281 247.164063 L 423.257813 159.105469 \"/>\n",
       "<path style=\"fill:none;stroke-width:1;stroke-linecap:butt;stroke-linejoin:miter;stroke:rgb(20%,20%,20%);stroke-opacity:1;stroke-miterlimit:10;\" d=\"M 475.988281 247.164063 L 580 256.238281 \"/>\n",
       "<path style=\"fill:none;stroke-width:1;stroke-linecap:butt;stroke-linejoin:miter;stroke:rgb(20%,20%,20%);stroke-opacity:1;stroke-miterlimit:10;\" d=\"M 486.070313 358.328125 L 580 256.238281 \"/>\n",
       "<path style=\"fill:none;stroke-width:1;stroke-linecap:butt;stroke-linejoin:miter;stroke:rgb(20%,20%,20%);stroke-opacity:1;stroke-miterlimit:10;\" d=\"M 244.480469 338.8125 L 203.710938 472.171875 \"/>\n",
       "<path style=\"fill:none;stroke-width:1;stroke-linecap:butt;stroke-linejoin:miter;stroke:rgb(20%,20%,20%);stroke-opacity:1;stroke-miterlimit:10;\" d=\"M 244.480469 338.8125 L 142.625 362.785156 \"/>\n",
       "<path style=\"fill:none;stroke-width:1;stroke-linecap:butt;stroke-linejoin:miter;stroke:rgb(20%,20%,20%);stroke-opacity:1;stroke-miterlimit:10;\" d=\"M 244.480469 338.8125 L 152.078125 330.964844 \"/>\n",
       "<path style=\"fill:none;stroke-width:1;stroke-linecap:butt;stroke-linejoin:miter;stroke:rgb(80%,80%,80%);stroke-opacity:1;stroke-miterlimit:10;\" d=\"M 181.488281 539.074219 L 152.078125 330.964844 \"/>\n",
       "<path style=\"fill:none;stroke-width:1;stroke-linecap:butt;stroke-linejoin:miter;stroke:rgb(80%,80%,80%);stroke-opacity:1;stroke-miterlimit:10;\" d=\"M 260.480469 469.132813 L 152.078125 330.964844 \"/>\n",
       "<path style=\"fill:none;stroke-width:1;stroke-linecap:butt;stroke-linejoin:miter;stroke:rgb(20%,20%,20%);stroke-opacity:1;stroke-miterlimit:10;\" d=\"M 46.796875 365.957031 L 142.625 362.785156 \"/>\n",
       "<path style=\"fill:none;stroke-width:1;stroke-linecap:butt;stroke-linejoin:miter;stroke:rgb(20%,20%,20%);stroke-opacity:1;stroke-miterlimit:10;\" d=\"M 46.796875 365.957031 L 152.078125 330.964844 \"/>\n",
       "<path style=\"fill:none;stroke-width:1;stroke-linecap:butt;stroke-linejoin:miter;stroke:rgb(20%,20%,20%);stroke-opacity:1;stroke-miterlimit:10;\" d=\"M 105.414063 532.503906 L 142.625 362.785156 \"/>\n",
       "<path style=\"fill:none;stroke-width:1;stroke-linecap:butt;stroke-linejoin:miter;stroke:rgb(20%,20%,20%);stroke-opacity:1;stroke-miterlimit:10;\" d=\"M 105.414063 532.503906 L 152.078125 330.964844 \"/>\n",
       "<path style=\"fill:none;stroke-width:1;stroke-linecap:butt;stroke-linejoin:miter;stroke:rgb(20%,20%,20%);stroke-opacity:1;stroke-miterlimit:10;\" d=\"M 77.015625 190.238281 L 142.625 362.785156 \"/>\n",
       "<path style=\"fill:none;stroke-width:1;stroke-linecap:butt;stroke-linejoin:miter;stroke:rgb(20%,20%,20%);stroke-opacity:1;stroke-miterlimit:10;\" d=\"M 77.015625 190.238281 L 152.078125 330.964844 \"/>\n",
       "<path style=\"fill:none;stroke-width:1;stroke-linecap:butt;stroke-linejoin:miter;stroke:rgb(80%,80%,80%);stroke-opacity:1;stroke-miterlimit:10;\" d=\"M 281.148438 292.703125 L 152.078125 330.964844 \"/>\n",
       "<path style=\"fill:none;stroke-width:1;stroke-linecap:butt;stroke-linejoin:miter;stroke:rgb(20%,20%,20%);stroke-opacity:1;stroke-miterlimit:10;\" d=\"M 53.769531 435.476563 L 142.625 362.785156 \"/>\n",
       "<path style=\"fill:none;stroke-width:1;stroke-linecap:butt;stroke-linejoin:miter;stroke:rgb(20%,20%,20%);stroke-opacity:1;stroke-miterlimit:10;\" d=\"M 53.769531 435.476563 L 152.078125 330.964844 \"/>\n",
       "<path style=\"fill:none;stroke-width:1;stroke-linecap:butt;stroke-linejoin:miter;stroke:rgb(20%,20%,20%);stroke-opacity:1;stroke-miterlimit:10;\" d=\"M 76.238281 490.976563 L 142.625 362.785156 \"/>\n",
       "<path style=\"fill:none;stroke-width:1;stroke-linecap:butt;stroke-linejoin:miter;stroke:rgb(20%,20%,20%);stroke-opacity:1;stroke-miterlimit:10;\" d=\"M 76.238281 490.976563 L 152.078125 330.964844 \"/>\n",
       "<path style=\"fill:none;stroke-width:1;stroke-linecap:butt;stroke-linejoin:miter;stroke:rgb(20%,20%,20%);stroke-opacity:1;stroke-miterlimit:10;\" d=\"M 125.785156 146.117188 L 206.511719 20 \"/>\n",
       "<path style=\"fill:none;stroke-width:1;stroke-linecap:butt;stroke-linejoin:miter;stroke:rgb(20%,20%,20%);stroke-opacity:1;stroke-miterlimit:10;\" d=\"M 125.785156 146.117188 L 206.707031 179.179688 \"/>\n",
       "<path style=\"fill:none;stroke-width:1;stroke-linecap:butt;stroke-linejoin:miter;stroke:rgb(80%,80%,80%);stroke-opacity:1;stroke-miterlimit:10;\" d=\"M 125.785156 146.117188 L 142.625 362.785156 \"/>\n",
       "<path style=\"fill:none;stroke-width:1;stroke-linecap:butt;stroke-linejoin:miter;stroke:rgb(80%,80%,80%);stroke-opacity:1;stroke-miterlimit:10;\" d=\"M 125.785156 146.117188 L 152.078125 330.964844 \"/>\n",
       "<path style=\"fill:none;stroke-width:1;stroke-linecap:butt;stroke-linejoin:miter;stroke:rgb(80%,80%,80%);stroke-opacity:1;stroke-miterlimit:10;\" d=\"M 125.785156 146.117188 L 72.359375 240.769531 \"/>\n",
       "<path style=\"fill:none;stroke-width:1;stroke-linecap:butt;stroke-linejoin:miter;stroke:rgb(20%,20%,20%);stroke-opacity:1;stroke-miterlimit:10;\" d=\"M 273.238281 33.589844 L 206.511719 20 \"/>\n",
       "<path style=\"fill:none;stroke-width:1;stroke-linecap:butt;stroke-linejoin:miter;stroke:rgb(20%,20%,20%);stroke-opacity:1;stroke-miterlimit:10;\" d=\"M 273.238281 33.589844 L 206.707031 179.179688 \"/>\n",
       "<path style=\"fill:none;stroke-width:1;stroke-linecap:butt;stroke-linejoin:miter;stroke:rgb(20%,20%,20%);stroke-opacity:1;stroke-miterlimit:10;\" d=\"M 273.238281 33.589844 L 258.535156 215.832031 \"/>\n",
       "<path style=\"fill:none;stroke-width:1;stroke-linecap:butt;stroke-linejoin:miter;stroke:rgb(20%,20%,20%);stroke-opacity:1;stroke-miterlimit:10;\" d=\"M 206.511719 20 L 258.535156 215.832031 \"/>\n",
       "<path style=\"fill:none;stroke-width:1;stroke-linecap:butt;stroke-linejoin:miter;stroke:rgb(20%,20%,20%);stroke-opacity:1;stroke-miterlimit:10;\" d=\"M 20 285.320313 L 72.359375 240.769531 \"/>\n",
       "<path style=\"fill:none;stroke-width:1;stroke-linecap:butt;stroke-linejoin:miter;stroke:rgb(20%,20%,20%);stroke-opacity:1;stroke-miterlimit:10;\" d=\"M 20 285.320313 L 152.078125 330.964844 \"/>\n",
       "<path style=\"fill:none;stroke-width:1;stroke-linecap:butt;stroke-linejoin:miter;stroke:rgb(80%,80%,80%);stroke-opacity:1;stroke-miterlimit:10;\" d=\"M 206.707031 179.179688 L 152.078125 330.964844 \"/>\n",
       "<path style=\"fill:none;stroke-width:1;stroke-linecap:butt;stroke-linejoin:miter;stroke:rgb(20%,20%,20%);stroke-opacity:1;stroke-miterlimit:10;\" d=\"M 192.1875 243.414063 L 258.535156 215.832031 \"/>\n",
       "<path style=\"fill:none;stroke-width:1;stroke-linecap:butt;stroke-linejoin:miter;stroke:rgb(80%,80%,80%);stroke-opacity:1;stroke-miterlimit:10;\" d=\"M 192.1875 243.414063 L 152.078125 330.964844 \"/>\n",
       "<path style=\"fill:none;stroke-width:1;stroke-linecap:butt;stroke-linejoin:miter;stroke:rgb(20%,20%,20%);stroke-opacity:1;stroke-miterlimit:10;\" d=\"M 72.359375 240.769531 L 142.625 362.785156 \"/>\n",
       "<path style=\"fill:none;stroke-width:1;stroke-linecap:butt;stroke-linejoin:miter;stroke:rgb(20%,20%,20%);stroke-opacity:1;stroke-miterlimit:10;\" d=\"M 72.359375 240.769531 L 152.078125 330.964844 \"/>\n",
       "<path style=\"fill:none;stroke-width:1;stroke-linecap:butt;stroke-linejoin:miter;stroke:rgb(20%,20%,20%);stroke-opacity:1;stroke-miterlimit:10;\" d=\"M 203.710938 472.171875 L 142.625 362.785156 \"/>\n",
       "<path style=\"fill:none;stroke-width:1;stroke-linecap:butt;stroke-linejoin:miter;stroke:rgb(20%,20%,20%);stroke-opacity:1;stroke-miterlimit:10;\" d=\"M 203.710938 472.171875 L 152.078125 330.964844 \"/>\n",
       "<path style=\"fill:none;stroke-width:1;stroke-linecap:butt;stroke-linejoin:miter;stroke:rgb(80%,80%,80%);stroke-opacity:1;stroke-miterlimit:10;\" d=\"M 258.535156 215.832031 L 142.625 362.785156 \"/>\n",
       "<path style=\"fill:none;stroke-width:1;stroke-linecap:butt;stroke-linejoin:miter;stroke:rgb(80%,80%,80%);stroke-opacity:1;stroke-miterlimit:10;\" d=\"M 258.535156 215.832031 L 152.078125 330.964844 \"/>\n",
       "<path style=\"fill:none;stroke-width:1;stroke-linecap:butt;stroke-linejoin:miter;stroke:rgb(20%,20%,20%);stroke-opacity:1;stroke-miterlimit:10;\" d=\"M 142.625 362.785156 L 152.078125 330.964844 \"/>\n",
       "<path style=\"fill-rule:nonzero;fill:rgb(0%,100%,0%);fill-opacity:1;stroke-width:1;stroke-linecap:butt;stroke-linejoin:miter;stroke:rgb(0%,0%,0%);stroke-opacity:1;stroke-miterlimit:10;\" d=\"M 376.996094 353.859375 C 376.996094 359.382813 372.519531 363.859375 366.996094 363.859375 C 361.472656 363.859375 356.996094 359.382813 356.996094 353.859375 C 356.996094 348.335938 361.472656 343.859375 366.996094 343.859375 C 372.519531 343.859375 376.996094 348.335938 376.996094 353.859375 \"/>\n",
       "<path style=\"fill-rule:nonzero;fill:rgb(0%,100%,0%);fill-opacity:1;stroke-width:1;stroke-linecap:butt;stroke-linejoin:miter;stroke:rgb(0%,0%,0%);stroke-opacity:1;stroke-miterlimit:10;\" d=\"M 342.078125 415.167969 C 342.078125 420.691406 337.601563 425.167969 332.078125 425.167969 C 326.558594 425.167969 322.078125 420.691406 322.078125 415.167969 C 322.078125 409.644531 326.558594 405.167969 332.078125 405.167969 C 337.601563 405.167969 342.078125 409.644531 342.078125 415.167969 \"/>\n",
       "<path style=\"fill-rule:nonzero;fill:rgb(0%,100%,0%);fill-opacity:1;stroke-width:1;stroke-linecap:butt;stroke-linejoin:miter;stroke:rgb(0%,0%,0%);stroke-opacity:1;stroke-miterlimit:10;\" d=\"M 272.886719 391.945313 C 272.886719 397.46875 268.410156 401.945313 262.886719 401.945313 C 257.363281 401.945313 252.886719 397.46875 252.886719 391.945313 C 252.886719 386.421875 257.363281 381.945313 262.886719 381.945313 C 268.410156 381.945313 272.886719 386.421875 272.886719 391.945313 \"/>\n",
       "<path style=\"fill-rule:nonzero;fill:rgb(0%,100%,0%);fill-opacity:1;stroke-width:1;stroke-linecap:butt;stroke-linejoin:miter;stroke:rgb(0%,0%,0%);stroke-opacity:1;stroke-miterlimit:10;\" d=\"M 326.535156 543.289063 C 326.535156 548.8125 322.054688 553.289063 316.535156 553.289063 C 311.011719 553.289063 306.535156 548.8125 306.535156 543.289063 C 306.535156 537.765625 311.011719 533.289063 316.535156 533.289063 C 322.054688 533.289063 326.535156 537.765625 326.535156 543.289063 \"/>\n",
       "<path style=\"fill-rule:nonzero;fill:rgb(100%,0%,0%);fill-opacity:1;stroke-width:1;stroke-linecap:butt;stroke-linejoin:miter;stroke:rgb(0%,0%,0%);stroke-opacity:1;stroke-miterlimit:10;\" d=\"M 456.097656 269.839844 C 456.097656 275.363281 451.617188 279.839844 446.097656 279.839844 C 440.574219 279.839844 436.097656 275.363281 436.097656 269.839844 C 436.097656 264.316406 440.574219 259.839844 446.097656 259.839844 C 451.617188 259.839844 456.097656 264.316406 456.097656 269.839844 \"/>\n",
       "<path style=\"fill-rule:nonzero;fill:rgb(100%,0%,0%);fill-opacity:1;stroke-width:1;stroke-linecap:butt;stroke-linejoin:miter;stroke:rgb(0%,0%,0%);stroke-opacity:1;stroke-miterlimit:10;\" d=\"M 485.988281 247.164063 C 485.988281 252.6875 481.511719 257.164063 475.988281 257.164063 C 470.464844 257.164063 465.988281 252.6875 465.988281 247.164063 C 465.988281 241.644531 470.464844 237.164063 475.988281 237.164063 C 481.511719 237.164063 485.988281 241.644531 485.988281 247.164063 \"/>\n",
       "<path style=\"fill-rule:nonzero;fill:rgb(100%,0%,0%);fill-opacity:1;stroke-width:1;stroke-linecap:butt;stroke-linejoin:miter;stroke:rgb(0%,0%,0%);stroke-opacity:1;stroke-miterlimit:10;\" d=\"M 496.070313 358.328125 C 496.070313 363.851563 491.59375 368.328125 486.070313 368.328125 C 480.546875 368.328125 476.070313 363.851563 476.070313 358.328125 C 476.070313 352.804688 480.546875 348.328125 486.070313 348.328125 C 491.59375 348.328125 496.070313 352.804688 496.070313 358.328125 \"/>\n",
       "<path style=\"fill-rule:nonzero;fill:rgb(0%,100%,0%);fill-opacity:1;stroke-width:1;stroke-linecap:butt;stroke-linejoin:miter;stroke:rgb(0%,0%,0%);stroke-opacity:1;stroke-miterlimit:10;\" d=\"M 363.191406 502.300781 C 363.191406 507.824219 358.714844 512.300781 353.191406 512.300781 C 347.667969 512.300781 343.191406 507.824219 343.191406 502.300781 C 343.191406 496.777344 347.667969 492.300781 353.191406 492.300781 C 358.714844 492.300781 363.191406 496.777344 363.191406 502.300781 \"/>\n",
       "<path style=\"fill-rule:nonzero;fill:rgb(100%,100%,0%);fill-opacity:1;stroke-width:1;stroke-linecap:butt;stroke-linejoin:miter;stroke:rgb(0%,0%,0%);stroke-opacity:1;stroke-miterlimit:10;\" d=\"M 254.480469 338.8125 C 254.480469 344.335938 250 348.8125 244.480469 348.8125 C 238.957031 348.8125 234.480469 344.335938 234.480469 338.8125 C 234.480469 333.289063 238.957031 328.8125 244.480469 328.8125 C 250 328.8125 254.480469 333.289063 254.480469 338.8125 \"/>\n",
       "<path style=\"fill-rule:nonzero;fill:rgb(0%,100%,0%);fill-opacity:1;stroke-width:1;stroke-linecap:butt;stroke-linejoin:miter;stroke:rgb(0%,0%,0%);stroke-opacity:1;stroke-miterlimit:10;\" d=\"M 191.488281 539.074219 C 191.488281 544.597656 187.011719 549.074219 181.488281 549.074219 C 175.96875 549.074219 171.488281 544.597656 171.488281 539.074219 C 171.488281 533.550781 175.96875 529.074219 181.488281 529.074219 C 187.011719 529.074219 191.488281 533.550781 191.488281 539.074219 \"/>\n",
       "<path style=\"fill-rule:nonzero;fill:rgb(100%,0%,0%);fill-opacity:1;stroke-width:1;stroke-linecap:butt;stroke-linejoin:miter;stroke:rgb(0%,0%,0%);stroke-opacity:1;stroke-miterlimit:10;\" d=\"M 433.257813 159.105469 C 433.257813 164.628906 428.777344 169.105469 423.257813 169.105469 C 417.734375 169.105469 413.257813 164.628906 413.257813 159.105469 C 413.257813 153.585938 417.734375 149.105469 423.257813 149.105469 C 428.777344 149.105469 433.257813 153.585938 433.257813 159.105469 \"/>\n",
       "<path style=\"fill-rule:nonzero;fill:rgb(0%,100%,0%);fill-opacity:1;stroke-width:1;stroke-linecap:butt;stroke-linejoin:miter;stroke:rgb(0%,0%,0%);stroke-opacity:1;stroke-miterlimit:10;\" d=\"M 479.273438 462.761719 C 479.273438 468.28125 474.796875 472.761719 469.273438 472.761719 C 463.75 472.761719 459.273438 468.28125 459.273438 462.761719 C 459.273438 457.238281 463.75 452.761719 469.273438 452.761719 C 474.796875 452.761719 479.273438 457.238281 479.273438 462.761719 \"/>\n",
       "<path style=\"fill-rule:nonzero;fill:rgb(0%,100%,0%);fill-opacity:1;stroke-width:1;stroke-linecap:butt;stroke-linejoin:miter;stroke:rgb(0%,0%,0%);stroke-opacity:1;stroke-miterlimit:10;\" d=\"M 416.21875 580 C 416.21875 585.523438 411.742188 590 406.21875 590 C 400.695313 590 396.21875 585.523438 396.21875 580 C 396.21875 574.476563 400.695313 570 406.21875 570 C 411.742188 570 416.21875 574.476563 416.21875 580 \"/>\n",
       "<path style=\"fill-rule:nonzero;fill:rgb(0%,100%,0%);fill-opacity:1;stroke-width:1;stroke-linecap:butt;stroke-linejoin:miter;stroke:rgb(0%,0%,0%);stroke-opacity:1;stroke-miterlimit:10;\" d=\"M 270.480469 469.132813 C 270.480469 474.652344 266.003906 479.132813 260.480469 479.132813 C 254.957031 479.132813 250.480469 474.652344 250.480469 469.132813 C 250.480469 463.609375 254.957031 459.132813 260.480469 459.132813 C 266.003906 459.132813 270.480469 463.609375 270.480469 469.132813 \"/>\n",
       "<path style=\"fill-rule:nonzero;fill:rgb(100%,100%,0%);fill-opacity:1;stroke-width:1;stroke-linecap:butt;stroke-linejoin:miter;stroke:rgb(0%,0%,0%);stroke-opacity:1;stroke-miterlimit:10;\" d=\"M 56.796875 365.957031 C 56.796875 371.480469 52.320313 375.957031 46.796875 375.957031 C 41.273438 375.957031 36.796875 371.480469 36.796875 365.957031 C 36.796875 360.433594 41.273438 355.957031 46.796875 355.957031 C 52.320313 355.957031 56.796875 360.433594 56.796875 365.957031 \"/>\n",
       "<path style=\"fill-rule:nonzero;fill:rgb(100%,100%,0%);fill-opacity:1;stroke-width:1;stroke-linecap:butt;stroke-linejoin:miter;stroke:rgb(0%,0%,0%);stroke-opacity:1;stroke-miterlimit:10;\" d=\"M 115.414063 532.503906 C 115.414063 538.027344 110.9375 542.503906 105.414063 542.503906 C 99.890625 542.503906 95.414063 538.027344 95.414063 532.503906 C 95.414063 526.980469 99.890625 522.503906 105.414063 522.503906 C 110.9375 522.503906 115.414063 526.980469 115.414063 532.503906 \"/>\n",
       "<path style=\"fill-rule:nonzero;fill:rgb(100%,0%,0%);fill-opacity:1;stroke-width:1;stroke-linecap:butt;stroke-linejoin:miter;stroke:rgb(0%,0%,0%);stroke-opacity:1;stroke-miterlimit:10;\" d=\"M 590 256.238281 C 590 261.761719 585.523438 266.238281 580 266.238281 C 574.476563 266.238281 570 261.761719 570 256.238281 C 570 250.714844 574.476563 246.238281 580 246.238281 C 585.523438 246.238281 590 250.714844 590 256.238281 \"/>\n",
       "<path style=\"fill-rule:nonzero;fill:rgb(0%,100%,0%);fill-opacity:1;stroke-width:1;stroke-linecap:butt;stroke-linejoin:miter;stroke:rgb(0%,0%,0%);stroke-opacity:1;stroke-miterlimit:10;\" d=\"M 399.179688 224.925781 C 399.179688 230.449219 394.703125 234.925781 389.179688 234.925781 C 383.65625 234.925781 379.179688 230.449219 379.179688 224.925781 C 379.179688 219.402344 383.65625 214.925781 389.179688 214.925781 C 394.703125 214.925781 399.179688 219.402344 399.179688 224.925781 \"/>\n",
       "<path style=\"fill-rule:nonzero;fill:rgb(100%,100%,0%);fill-opacity:1;stroke-width:1;stroke-linecap:butt;stroke-linejoin:miter;stroke:rgb(0%,0%,0%);stroke-opacity:1;stroke-miterlimit:10;\" d=\"M 87.015625 190.238281 C 87.015625 195.761719 82.539063 200.238281 77.015625 200.238281 C 71.496094 200.238281 67.015625 195.761719 67.015625 190.238281 C 67.015625 184.714844 71.496094 180.238281 77.015625 180.238281 C 82.539063 180.238281 87.015625 184.714844 87.015625 190.238281 \"/>\n",
       "<path style=\"fill-rule:nonzero;fill:rgb(0%,100%,0%);fill-opacity:1;stroke-width:1;stroke-linecap:butt;stroke-linejoin:miter;stroke:rgb(0%,0%,0%);stroke-opacity:1;stroke-miterlimit:10;\" d=\"M 291.148438 292.703125 C 291.148438 298.226563 286.671875 302.703125 281.148438 302.703125 C 275.625 302.703125 271.148438 298.226563 271.148438 292.703125 C 271.148438 287.179688 275.625 282.703125 281.148438 282.703125 C 286.671875 282.703125 291.148438 287.179688 291.148438 292.703125 \"/>\n",
       "<path style=\"fill-rule:nonzero;fill:rgb(100%,100%,0%);fill-opacity:1;stroke-width:1;stroke-linecap:butt;stroke-linejoin:miter;stroke:rgb(0%,0%,0%);stroke-opacity:1;stroke-miterlimit:10;\" d=\"M 63.769531 435.476563 C 63.769531 441 59.289063 445.476563 53.769531 445.476563 C 48.246094 445.476563 43.769531 441 43.769531 435.476563 C 43.769531 429.957031 48.246094 425.476563 53.769531 425.476563 C 59.289063 425.476563 63.769531 429.957031 63.769531 435.476563 \"/>\n",
       "<path style=\"fill-rule:nonzero;fill:rgb(0%,100%,0%);fill-opacity:1;stroke-width:1;stroke-linecap:butt;stroke-linejoin:miter;stroke:rgb(0%,0%,0%);stroke-opacity:1;stroke-miterlimit:10;\" d=\"M 435.984375 500.273438 C 435.984375 505.796875 431.507813 510.273438 425.984375 510.273438 C 420.464844 510.273438 415.984375 505.796875 415.984375 500.273438 C 415.984375 494.75 420.464844 490.273438 425.984375 490.273438 C 431.507813 490.273438 435.984375 494.75 435.984375 500.273438 \"/>\n",
       "<path style=\"fill-rule:nonzero;fill:rgb(100%,100%,0%);fill-opacity:1;stroke-width:1;stroke-linecap:butt;stroke-linejoin:miter;stroke:rgb(0%,0%,0%);stroke-opacity:1;stroke-miterlimit:10;\" d=\"M 86.238281 490.976563 C 86.238281 496.5 81.761719 500.976563 76.238281 500.976563 C 70.714844 500.976563 66.238281 496.5 66.238281 490.976563 C 66.238281 485.457031 70.714844 480.976563 76.238281 480.976563 C 81.761719 480.976563 86.238281 485.457031 86.238281 490.976563 \"/>\n",
       "<path style=\"fill-rule:nonzero;fill:rgb(0%,0%,100%);fill-opacity:1;stroke-width:1;stroke-linecap:butt;stroke-linejoin:miter;stroke:rgb(0%,0%,0%);stroke-opacity:1;stroke-miterlimit:10;\" d=\"M 135.785156 146.117188 C 135.785156 151.636719 131.308594 156.117188 125.785156 156.117188 C 120.261719 156.117188 115.785156 151.636719 115.785156 146.117188 C 115.785156 140.59375 120.261719 136.117188 125.785156 136.117188 C 131.308594 136.117188 135.785156 140.59375 135.785156 146.117188 \"/>\n",
       "<path style=\"fill-rule:nonzero;fill:rgb(0%,0%,100%);fill-opacity:1;stroke-width:1;stroke-linecap:butt;stroke-linejoin:miter;stroke:rgb(0%,0%,0%);stroke-opacity:1;stroke-miterlimit:10;\" d=\"M 283.238281 33.589844 C 283.238281 39.113281 278.761719 43.589844 273.238281 43.589844 C 267.714844 43.589844 263.238281 39.113281 263.238281 33.589844 C 263.238281 28.066406 267.714844 23.589844 273.238281 23.589844 C 278.761719 23.589844 283.238281 28.066406 283.238281 33.589844 \"/>\n",
       "<path style=\"fill-rule:nonzero;fill:rgb(0%,0%,100%);fill-opacity:1;stroke-width:1;stroke-linecap:butt;stroke-linejoin:miter;stroke:rgb(0%,0%,0%);stroke-opacity:1;stroke-miterlimit:10;\" d=\"M 216.511719 20 C 216.511719 25.523438 212.035156 30 206.511719 30 C 200.988281 30 196.511719 25.523438 196.511719 20 C 196.511719 14.476563 200.988281 10 206.511719 10 C 212.035156 10 216.511719 14.476563 216.511719 20 \"/>\n",
       "<path style=\"fill-rule:nonzero;fill:rgb(100%,100%,0%);fill-opacity:1;stroke-width:1;stroke-linecap:butt;stroke-linejoin:miter;stroke:rgb(0%,0%,0%);stroke-opacity:1;stroke-miterlimit:10;\" d=\"M 30 285.320313 C 30 290.84375 25.523438 295.320313 20 295.320313 C 14.476563 295.320313 10 290.84375 10 285.320313 C 10 279.796875 14.476563 275.320313 20 275.320313 C 25.523438 275.320313 30 279.796875 30 285.320313 \"/>\n",
       "<path style=\"fill-rule:nonzero;fill:rgb(0%,0%,100%);fill-opacity:1;stroke-width:1;stroke-linecap:butt;stroke-linejoin:miter;stroke:rgb(0%,0%,0%);stroke-opacity:1;stroke-miterlimit:10;\" d=\"M 216.707031 179.179688 C 216.707031 184.699219 212.230469 189.179688 206.707031 189.179688 C 201.183594 189.179688 196.707031 184.699219 196.707031 179.179688 C 196.707031 173.65625 201.183594 169.179688 206.707031 169.179688 C 212.230469 169.179688 216.707031 173.65625 216.707031 179.179688 \"/>\n",
       "<path style=\"fill-rule:nonzero;fill:rgb(0%,0%,100%);fill-opacity:1;stroke-width:1;stroke-linecap:butt;stroke-linejoin:miter;stroke:rgb(0%,0%,0%);stroke-opacity:1;stroke-miterlimit:10;\" d=\"M 202.1875 243.414063 C 202.1875 248.9375 197.710938 253.414063 192.1875 253.414063 C 186.664063 253.414063 182.1875 248.9375 182.1875 243.414063 C 182.1875 237.890625 186.664063 233.414063 192.1875 233.414063 C 197.710938 233.414063 202.1875 237.890625 202.1875 243.414063 \"/>\n",
       "<path style=\"fill-rule:nonzero;fill:rgb(100%,100%,0%);fill-opacity:1;stroke-width:1;stroke-linecap:butt;stroke-linejoin:miter;stroke:rgb(0%,0%,0%);stroke-opacity:1;stroke-miterlimit:10;\" d=\"M 82.359375 240.769531 C 82.359375 246.292969 77.882813 250.769531 72.359375 250.769531 C 66.839844 250.769531 62.359375 246.292969 62.359375 240.769531 C 62.359375 235.246094 66.839844 230.769531 72.359375 230.769531 C 77.882813 230.769531 82.359375 235.246094 82.359375 240.769531 \"/>\n",
       "<path style=\"fill-rule:nonzero;fill:rgb(100%,100%,0%);fill-opacity:1;stroke-width:1;stroke-linecap:butt;stroke-linejoin:miter;stroke:rgb(0%,0%,0%);stroke-opacity:1;stroke-miterlimit:10;\" d=\"M 213.710938 472.171875 C 213.710938 477.695313 209.234375 482.171875 203.710938 482.171875 C 198.1875 482.171875 193.710938 477.695313 193.710938 472.171875 C 193.710938 466.648438 198.1875 462.171875 203.710938 462.171875 C 209.234375 462.171875 213.710938 466.648438 213.710938 472.171875 \"/>\n",
       "<path style=\"fill-rule:nonzero;fill:rgb(0%,0%,100%);fill-opacity:1;stroke-width:1;stroke-linecap:butt;stroke-linejoin:miter;stroke:rgb(0%,0%,0%);stroke-opacity:1;stroke-miterlimit:10;\" d=\"M 268.535156 215.832031 C 268.535156 221.355469 264.058594 225.832031 258.535156 225.832031 C 253.015625 225.832031 248.535156 221.355469 248.535156 215.832031 C 248.535156 210.308594 253.015625 205.832031 258.535156 205.832031 C 264.058594 205.832031 268.535156 210.308594 268.535156 215.832031 \"/>\n",
       "<path style=\"fill-rule:nonzero;fill:rgb(100%,100%,0%);fill-opacity:1;stroke-width:1;stroke-linecap:butt;stroke-linejoin:miter;stroke:rgb(0%,0%,0%);stroke-opacity:1;stroke-miterlimit:10;\" d=\"M 152.625 362.785156 C 152.625 368.308594 148.148438 372.785156 142.625 372.785156 C 137.101563 372.785156 132.625 368.308594 132.625 362.785156 C 132.625 357.261719 137.101563 352.785156 142.625 352.785156 C 148.148438 352.785156 152.625 357.261719 152.625 362.785156 \"/>\n",
       "<path style=\"fill-rule:nonzero;fill:rgb(100%,100%,0%);fill-opacity:1;stroke-width:1;stroke-linecap:butt;stroke-linejoin:miter;stroke:rgb(0%,0%,0%);stroke-opacity:1;stroke-miterlimit:10;\" d=\"M 162.078125 330.964844 C 162.078125 336.488281 157.597656 340.964844 152.078125 340.964844 C 146.554688 340.964844 142.078125 336.488281 142.078125 330.964844 C 142.078125 325.441406 146.554688 320.964844 152.078125 320.964844 C 157.597656 320.964844 162.078125 325.441406 162.078125 330.964844 \"/>\n",
       "</g>\n",
       "</svg>\n"
      ],
      "text/plain": [
       "<igraph.drawing.Plot at 0x56f2400>"
      ]
     },
     "execution_count": 6,
     "metadata": {},
     "output_type": "execute_result"
    }
   ],
   "source": [
    "ig.plot(G.community_multilevel())"
   ]
  },
  {
   "cell_type": "code",
   "execution_count": null,
   "metadata": {
    "collapsed": true
   },
   "outputs": [],
   "source": []
  }
 ],
 "metadata": {
  "kernelspec": {
   "display_name": "Python 3",
   "language": "python",
   "name": "python3"
  },
  "language_info": {
   "codemirror_mode": {
    "name": "ipython",
    "version": 3
   },
   "file_extension": ".py",
   "mimetype": "text/x-python",
   "name": "python",
   "nbconvert_exporter": "python",
   "pygments_lexer": "ipython3",
   "version": "3.6.3"
  }
 },
 "nbformat": 4,
 "nbformat_minor": 2
}
