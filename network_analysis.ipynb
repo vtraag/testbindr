{
 "cells": [
  {
   "cell_type": "code",
   "execution_count": 1,
   "metadata": {
    "collapsed": true
   },
   "outputs": [],
   "source": [
    "import igraph as ig"
   ]
  },
  {
   "cell_type": "code",
   "execution_count": 2,
   "metadata": {
    "collapsed": true
   },
   "outputs": [],
   "source": [
    "G = ig.Graph.Famous('Zachary')"
   ]
  },
  {
   "cell_type": "code",
   "execution_count": 3,
   "metadata": {},
   "outputs": [
    {
     "data": {
      "image/svg+xml": [
       "<?xml version=\"1.0\" encoding=\"UTF-8\"?>\n",
       "<svg xmlns=\"http://www.w3.org/2000/svg\" xmlns:xlink=\"http://www.w3.org/1999/xlink\" width=\"600pt\" height=\"600pt\" viewBox=\"0 0 600 600\" version=\"1.1\">\n",
       "<g id=\"surface2\">\n",
       "<rect x=\"0\" y=\"0\" width=\"600\" height=\"600\" style=\"fill:rgb(100%,100%,100%);fill-opacity:1;stroke:none;\"/>\n",
       "<path style=\"fill:none;stroke-width:1;stroke-linecap:butt;stroke-linejoin:miter;stroke:rgb(20%,20%,20%);stroke-opacity:1;stroke-miterlimit:10;\" d=\"M 376.65625 240.851563 L 359.886719 301.066406 \"/>\n",
       "<path style=\"fill:none;stroke-width:1;stroke-linecap:butt;stroke-linejoin:miter;stroke:rgb(20%,20%,20%);stroke-opacity:1;stroke-miterlimit:10;\" d=\"M 376.65625 240.851563 L 260.886719 255.429688 \"/>\n",
       "<path style=\"fill:none;stroke-width:1;stroke-linecap:butt;stroke-linejoin:miter;stroke:rgb(20%,20%,20%);stroke-opacity:1;stroke-miterlimit:10;\" d=\"M 376.65625 240.851563 L 328.773438 173.664063 \"/>\n",
       "<path style=\"fill:none;stroke-width:1;stroke-linecap:butt;stroke-linejoin:miter;stroke:rgb(80%,80%,80%);stroke-opacity:1;stroke-miterlimit:10;\" d=\"M 376.65625 240.851563 L 507.070313 204.914063 \"/>\n",
       "<path style=\"fill:none;stroke-width:1;stroke-linecap:butt;stroke-linejoin:miter;stroke:rgb(80%,80%,80%);stroke-opacity:1;stroke-miterlimit:10;\" d=\"M 376.65625 240.851563 L 460.523438 423.867188 \"/>\n",
       "<path style=\"fill:none;stroke-width:1;stroke-linecap:butt;stroke-linejoin:miter;stroke:rgb(80%,80%,80%);stroke-opacity:1;stroke-miterlimit:10;\" d=\"M 376.65625 240.851563 L 499.789063 345.214844 \"/>\n",
       "<path style=\"fill:none;stroke-width:1;stroke-linecap:butt;stroke-linejoin:miter;stroke:rgb(20%,20%,20%);stroke-opacity:1;stroke-miterlimit:10;\" d=\"M 376.65625 240.851563 L 314.332031 110.34375 \"/>\n",
       "<path style=\"fill:none;stroke-width:1;stroke-linecap:butt;stroke-linejoin:miter;stroke:rgb(80%,80%,80%);stroke-opacity:1;stroke-miterlimit:10;\" d=\"M 376.65625 240.851563 L 281.164063 384.390625 \"/>\n",
       "<path style=\"fill:none;stroke-width:1;stroke-linecap:butt;stroke-linejoin:miter;stroke:rgb(80%,80%,80%);stroke-opacity:1;stroke-miterlimit:10;\" d=\"M 376.65625 240.851563 L 478.503906 305.878906 \"/>\n",
       "<path style=\"fill:none;stroke-width:1;stroke-linecap:butt;stroke-linejoin:miter;stroke:rgb(20%,20%,20%);stroke-opacity:1;stroke-miterlimit:10;\" d=\"M 376.65625 240.851563 L 437.234375 45.398438 \"/>\n",
       "<path style=\"fill:none;stroke-width:1;stroke-linecap:butt;stroke-linejoin:miter;stroke:rgb(20%,20%,20%);stroke-opacity:1;stroke-miterlimit:10;\" d=\"M 376.65625 240.851563 L 376.789063 30.105469 \"/>\n",
       "<path style=\"fill:none;stroke-width:1;stroke-linecap:butt;stroke-linejoin:miter;stroke:rgb(20%,20%,20%);stroke-opacity:1;stroke-miterlimit:10;\" d=\"M 376.65625 240.851563 L 291.828125 332.359375 \"/>\n",
       "<path style=\"fill:none;stroke-width:1;stroke-linecap:butt;stroke-linejoin:miter;stroke:rgb(20%,20%,20%);stroke-opacity:1;stroke-miterlimit:10;\" d=\"M 376.65625 240.851563 L 436.078125 130.75 \"/>\n",
       "<path style=\"fill:none;stroke-width:1;stroke-linecap:butt;stroke-linejoin:miter;stroke:rgb(20%,20%,20%);stroke-opacity:1;stroke-miterlimit:10;\" d=\"M 376.65625 240.851563 L 318.253906 421.589844 \"/>\n",
       "<path style=\"fill:none;stroke-width:1;stroke-linecap:butt;stroke-linejoin:miter;stroke:rgb(20%,20%,20%);stroke-opacity:1;stroke-miterlimit:10;\" d=\"M 376.65625 240.851563 L 459.46875 206.269531 \"/>\n",
       "<path style=\"fill:none;stroke-width:1;stroke-linecap:butt;stroke-linejoin:miter;stroke:rgb(80%,80%,80%);stroke-opacity:1;stroke-miterlimit:10;\" d=\"M 376.65625 240.851563 L 228.109375 208.570313 \"/>\n",
       "<path style=\"fill:none;stroke-width:1;stroke-linecap:butt;stroke-linejoin:miter;stroke:rgb(20%,20%,20%);stroke-opacity:1;stroke-miterlimit:10;\" d=\"M 359.886719 301.066406 L 260.886719 255.429688 \"/>\n",
       "<path style=\"fill:none;stroke-width:1;stroke-linecap:butt;stroke-linejoin:miter;stroke:rgb(20%,20%,20%);stroke-opacity:1;stroke-miterlimit:10;\" d=\"M 359.886719 301.066406 L 328.773438 173.664063 \"/>\n",
       "<path style=\"fill:none;stroke-width:1;stroke-linecap:butt;stroke-linejoin:miter;stroke:rgb(20%,20%,20%);stroke-opacity:1;stroke-miterlimit:10;\" d=\"M 359.886719 301.066406 L 314.332031 110.34375 \"/>\n",
       "<path style=\"fill:none;stroke-width:1;stroke-linecap:butt;stroke-linejoin:miter;stroke:rgb(20%,20%,20%);stroke-opacity:1;stroke-miterlimit:10;\" d=\"M 359.886719 301.066406 L 291.828125 332.359375 \"/>\n",
       "<path style=\"fill:none;stroke-width:1;stroke-linecap:butt;stroke-linejoin:miter;stroke:rgb(20%,20%,20%);stroke-opacity:1;stroke-miterlimit:10;\" d=\"M 359.886719 301.066406 L 436.078125 130.75 \"/>\n",
       "<path style=\"fill:none;stroke-width:1;stroke-linecap:butt;stroke-linejoin:miter;stroke:rgb(20%,20%,20%);stroke-opacity:1;stroke-miterlimit:10;\" d=\"M 359.886719 301.066406 L 318.253906 421.589844 \"/>\n",
       "<path style=\"fill:none;stroke-width:1;stroke-linecap:butt;stroke-linejoin:miter;stroke:rgb(20%,20%,20%);stroke-opacity:1;stroke-miterlimit:10;\" d=\"M 359.886719 301.066406 L 459.46875 206.269531 \"/>\n",
       "<path style=\"fill:none;stroke-width:1;stroke-linecap:butt;stroke-linejoin:miter;stroke:rgb(80%,80%,80%);stroke-opacity:1;stroke-miterlimit:10;\" d=\"M 359.886719 301.066406 L 270.753906 479.363281 \"/>\n",
       "<path style=\"fill:none;stroke-width:1;stroke-linecap:butt;stroke-linejoin:miter;stroke:rgb(20%,20%,20%);stroke-opacity:1;stroke-miterlimit:10;\" d=\"M 260.886719 255.429688 L 328.773438 173.664063 \"/>\n",
       "<path style=\"fill:none;stroke-width:1;stroke-linecap:butt;stroke-linejoin:miter;stroke:rgb(20%,20%,20%);stroke-opacity:1;stroke-miterlimit:10;\" d=\"M 260.886719 255.429688 L 314.332031 110.34375 \"/>\n",
       "<path style=\"fill:none;stroke-width:1;stroke-linecap:butt;stroke-linejoin:miter;stroke:rgb(80%,80%,80%);stroke-opacity:1;stroke-miterlimit:10;\" d=\"M 260.886719 255.429688 L 155.023438 180.765625 \"/>\n",
       "<path style=\"fill:none;stroke-width:1;stroke-linecap:butt;stroke-linejoin:miter;stroke:rgb(80%,80%,80%);stroke-opacity:1;stroke-miterlimit:10;\" d=\"M 260.886719 255.429688 L 150.902344 233.898438 \"/>\n",
       "<path style=\"fill:none;stroke-width:1;stroke-linecap:butt;stroke-linejoin:miter;stroke:rgb(80%,80%,80%);stroke-opacity:1;stroke-miterlimit:10;\" d=\"M 260.886719 255.429688 L 178.019531 418.117188 \"/>\n",
       "<path style=\"fill:none;stroke-width:1;stroke-linecap:butt;stroke-linejoin:miter;stroke:rgb(20%,20%,20%);stroke-opacity:1;stroke-miterlimit:10;\" d=\"M 260.886719 255.429688 L 161.941406 289.496094 \"/>\n",
       "<path style=\"fill:none;stroke-width:1;stroke-linecap:butt;stroke-linejoin:miter;stroke:rgb(80%,80%,80%);stroke-opacity:1;stroke-miterlimit:10;\" d=\"M 260.886719 255.429688 L 281.164063 384.390625 \"/>\n",
       "<path style=\"fill:none;stroke-width:1;stroke-linecap:butt;stroke-linejoin:miter;stroke:rgb(20%,20%,20%);stroke-opacity:1;stroke-miterlimit:10;\" d=\"M 260.886719 255.429688 L 291.828125 332.359375 \"/>\n",
       "<path style=\"fill:none;stroke-width:1;stroke-linecap:butt;stroke-linejoin:miter;stroke:rgb(20%,20%,20%);stroke-opacity:1;stroke-miterlimit:10;\" d=\"M 328.773438 173.664063 L 314.332031 110.34375 \"/>\n",
       "<path style=\"fill:none;stroke-width:1;stroke-linecap:butt;stroke-linejoin:miter;stroke:rgb(20%,20%,20%);stroke-opacity:1;stroke-miterlimit:10;\" d=\"M 328.773438 173.664063 L 376.789063 30.105469 \"/>\n",
       "<path style=\"fill:none;stroke-width:1;stroke-linecap:butt;stroke-linejoin:miter;stroke:rgb(20%,20%,20%);stroke-opacity:1;stroke-miterlimit:10;\" d=\"M 328.773438 173.664063 L 291.828125 332.359375 \"/>\n",
       "<path style=\"fill:none;stroke-width:1;stroke-linecap:butt;stroke-linejoin:miter;stroke:rgb(20%,20%,20%);stroke-opacity:1;stroke-miterlimit:10;\" d=\"M 507.070313 204.914063 L 499.789063 345.214844 \"/>\n",
       "<path style=\"fill:none;stroke-width:1;stroke-linecap:butt;stroke-linejoin:miter;stroke:rgb(20%,20%,20%);stroke-opacity:1;stroke-miterlimit:10;\" d=\"M 507.070313 204.914063 L 478.503906 305.878906 \"/>\n",
       "<path style=\"fill:none;stroke-width:1;stroke-linecap:butt;stroke-linejoin:miter;stroke:rgb(20%,20%,20%);stroke-opacity:1;stroke-miterlimit:10;\" d=\"M 460.523438 423.867188 L 499.789063 345.214844 \"/>\n",
       "<path style=\"fill:none;stroke-width:1;stroke-linecap:butt;stroke-linejoin:miter;stroke:rgb(20%,20%,20%);stroke-opacity:1;stroke-miterlimit:10;\" d=\"M 460.523438 423.867188 L 478.503906 305.878906 \"/>\n",
       "<path style=\"fill:none;stroke-width:1;stroke-linecap:butt;stroke-linejoin:miter;stroke:rgb(20%,20%,20%);stroke-opacity:1;stroke-miterlimit:10;\" d=\"M 460.523438 423.867188 L 580 461.34375 \"/>\n",
       "<path style=\"fill:none;stroke-width:1;stroke-linecap:butt;stroke-linejoin:miter;stroke:rgb(20%,20%,20%);stroke-opacity:1;stroke-miterlimit:10;\" d=\"M 499.789063 345.214844 L 580 461.34375 \"/>\n",
       "<path style=\"fill:none;stroke-width:1;stroke-linecap:butt;stroke-linejoin:miter;stroke:rgb(20%,20%,20%);stroke-opacity:1;stroke-miterlimit:10;\" d=\"M 281.164063 384.390625 L 270.753906 479.363281 \"/>\n",
       "<path style=\"fill:none;stroke-width:1;stroke-linecap:butt;stroke-linejoin:miter;stroke:rgb(20%,20%,20%);stroke-opacity:1;stroke-miterlimit:10;\" d=\"M 281.164063 384.390625 L 178.019531 418.117188 \"/>\n",
       "<path style=\"fill:none;stroke-width:1;stroke-linecap:butt;stroke-linejoin:miter;stroke:rgb(20%,20%,20%);stroke-opacity:1;stroke-miterlimit:10;\" d=\"M 281.164063 384.390625 L 164.308594 384.609375 \"/>\n",
       "<path style=\"fill:none;stroke-width:1;stroke-linecap:butt;stroke-linejoin:miter;stroke:rgb(80%,80%,80%);stroke-opacity:1;stroke-miterlimit:10;\" d=\"M 161.941406 289.496094 L 164.308594 384.609375 \"/>\n",
       "<path style=\"fill:none;stroke-width:1;stroke-linecap:butt;stroke-linejoin:miter;stroke:rgb(80%,80%,80%);stroke-opacity:1;stroke-miterlimit:10;\" d=\"M 291.828125 332.359375 L 164.308594 384.609375 \"/>\n",
       "<path style=\"fill:none;stroke-width:1;stroke-linecap:butt;stroke-linejoin:miter;stroke:rgb(20%,20%,20%);stroke-opacity:1;stroke-miterlimit:10;\" d=\"M 124.554688 557.851563 L 178.019531 418.117188 \"/>\n",
       "<path style=\"fill:none;stroke-width:1;stroke-linecap:butt;stroke-linejoin:miter;stroke:rgb(20%,20%,20%);stroke-opacity:1;stroke-miterlimit:10;\" d=\"M 124.554688 557.851563 L 164.308594 384.609375 \"/>\n",
       "<path style=\"fill:none;stroke-width:1;stroke-linecap:butt;stroke-linejoin:miter;stroke:rgb(20%,20%,20%);stroke-opacity:1;stroke-miterlimit:10;\" d=\"M 207.152344 580 L 178.019531 418.117188 \"/>\n",
       "<path style=\"fill:none;stroke-width:1;stroke-linecap:butt;stroke-linejoin:miter;stroke:rgb(20%,20%,20%);stroke-opacity:1;stroke-miterlimit:10;\" d=\"M 207.152344 580 L 164.308594 384.609375 \"/>\n",
       "<path style=\"fill:none;stroke-width:1;stroke-linecap:butt;stroke-linejoin:miter;stroke:rgb(20%,20%,20%);stroke-opacity:1;stroke-miterlimit:10;\" d=\"M 68.40625 453.726563 L 178.019531 418.117188 \"/>\n",
       "<path style=\"fill:none;stroke-width:1;stroke-linecap:butt;stroke-linejoin:miter;stroke:rgb(20%,20%,20%);stroke-opacity:1;stroke-miterlimit:10;\" d=\"M 68.40625 453.726563 L 164.308594 384.609375 \"/>\n",
       "<path style=\"fill:none;stroke-width:1;stroke-linecap:butt;stroke-linejoin:miter;stroke:rgb(80%,80%,80%);stroke-opacity:1;stroke-miterlimit:10;\" d=\"M 318.253906 421.589844 L 164.308594 384.609375 \"/>\n",
       "<path style=\"fill:none;stroke-width:1;stroke-linecap:butt;stroke-linejoin:miter;stroke:rgb(20%,20%,20%);stroke-opacity:1;stroke-miterlimit:10;\" d=\"M 88.777344 517.675781 L 178.019531 418.117188 \"/>\n",
       "<path style=\"fill:none;stroke-width:1;stroke-linecap:butt;stroke-linejoin:miter;stroke:rgb(20%,20%,20%);stroke-opacity:1;stroke-miterlimit:10;\" d=\"M 88.777344 517.675781 L 164.308594 384.609375 \"/>\n",
       "<path style=\"fill:none;stroke-width:1;stroke-linecap:butt;stroke-linejoin:miter;stroke:rgb(20%,20%,20%);stroke-opacity:1;stroke-miterlimit:10;\" d=\"M 165.53125 578.605469 L 178.019531 418.117188 \"/>\n",
       "<path style=\"fill:none;stroke-width:1;stroke-linecap:butt;stroke-linejoin:miter;stroke:rgb(20%,20%,20%);stroke-opacity:1;stroke-miterlimit:10;\" d=\"M 165.53125 578.605469 L 164.308594 384.609375 \"/>\n",
       "<path style=\"fill:none;stroke-width:1;stroke-linecap:butt;stroke-linejoin:miter;stroke:rgb(20%,20%,20%);stroke-opacity:1;stroke-miterlimit:10;\" d=\"M 71.816406 247.550781 L 114.179688 68.988281 \"/>\n",
       "<path style=\"fill:none;stroke-width:1;stroke-linecap:butt;stroke-linejoin:miter;stroke:rgb(20%,20%,20%);stroke-opacity:1;stroke-miterlimit:10;\" d=\"M 71.816406 247.550781 L 155.023438 180.765625 \"/>\n",
       "<path style=\"fill:none;stroke-width:1;stroke-linecap:butt;stroke-linejoin:miter;stroke:rgb(80%,80%,80%);stroke-opacity:1;stroke-miterlimit:10;\" d=\"M 71.816406 247.550781 L 178.019531 418.117188 \"/>\n",
       "<path style=\"fill:none;stroke-width:1;stroke-linecap:butt;stroke-linejoin:miter;stroke:rgb(80%,80%,80%);stroke-opacity:1;stroke-miterlimit:10;\" d=\"M 71.816406 247.550781 L 164.308594 384.609375 \"/>\n",
       "<path style=\"fill:none;stroke-width:1;stroke-linecap:butt;stroke-linejoin:miter;stroke:rgb(80%,80%,80%);stroke-opacity:1;stroke-miterlimit:10;\" d=\"M 71.816406 247.550781 L 54.464844 342.089844 \"/>\n",
       "<path style=\"fill:none;stroke-width:1;stroke-linecap:butt;stroke-linejoin:miter;stroke:rgb(20%,20%,20%);stroke-opacity:1;stroke-miterlimit:10;\" d=\"M 183.476563 20 L 114.179688 68.988281 \"/>\n",
       "<path style=\"fill:none;stroke-width:1;stroke-linecap:butt;stroke-linejoin:miter;stroke:rgb(20%,20%,20%);stroke-opacity:1;stroke-miterlimit:10;\" d=\"M 183.476563 20 L 155.023438 180.765625 \"/>\n",
       "<path style=\"fill:none;stroke-width:1;stroke-linecap:butt;stroke-linejoin:miter;stroke:rgb(20%,20%,20%);stroke-opacity:1;stroke-miterlimit:10;\" d=\"M 183.476563 20 L 228.109375 208.570313 \"/>\n",
       "<path style=\"fill:none;stroke-width:1;stroke-linecap:butt;stroke-linejoin:miter;stroke:rgb(20%,20%,20%);stroke-opacity:1;stroke-miterlimit:10;\" d=\"M 114.179688 68.988281 L 228.109375 208.570313 \"/>\n",
       "<path style=\"fill:none;stroke-width:1;stroke-linecap:butt;stroke-linejoin:miter;stroke:rgb(20%,20%,20%);stroke-opacity:1;stroke-miterlimit:10;\" d=\"M 20 417.34375 L 54.464844 342.089844 \"/>\n",
       "<path style=\"fill:none;stroke-width:1;stroke-linecap:butt;stroke-linejoin:miter;stroke:rgb(20%,20%,20%);stroke-opacity:1;stroke-miterlimit:10;\" d=\"M 20 417.34375 L 164.308594 384.609375 \"/>\n",
       "<path style=\"fill:none;stroke-width:1;stroke-linecap:butt;stroke-linejoin:miter;stroke:rgb(80%,80%,80%);stroke-opacity:1;stroke-miterlimit:10;\" d=\"M 155.023438 180.765625 L 164.308594 384.609375 \"/>\n",
       "<path style=\"fill:none;stroke-width:1;stroke-linecap:butt;stroke-linejoin:miter;stroke:rgb(20%,20%,20%);stroke-opacity:1;stroke-miterlimit:10;\" d=\"M 150.902344 233.898438 L 228.109375 208.570313 \"/>\n",
       "<path style=\"fill:none;stroke-width:1;stroke-linecap:butt;stroke-linejoin:miter;stroke:rgb(80%,80%,80%);stroke-opacity:1;stroke-miterlimit:10;\" d=\"M 150.902344 233.898438 L 164.308594 384.609375 \"/>\n",
       "<path style=\"fill:none;stroke-width:1;stroke-linecap:butt;stroke-linejoin:miter;stroke:rgb(20%,20%,20%);stroke-opacity:1;stroke-miterlimit:10;\" d=\"M 54.464844 342.089844 L 178.019531 418.117188 \"/>\n",
       "<path style=\"fill:none;stroke-width:1;stroke-linecap:butt;stroke-linejoin:miter;stroke:rgb(20%,20%,20%);stroke-opacity:1;stroke-miterlimit:10;\" d=\"M 54.464844 342.089844 L 164.308594 384.609375 \"/>\n",
       "<path style=\"fill:none;stroke-width:1;stroke-linecap:butt;stroke-linejoin:miter;stroke:rgb(20%,20%,20%);stroke-opacity:1;stroke-miterlimit:10;\" d=\"M 270.753906 479.363281 L 178.019531 418.117188 \"/>\n",
       "<path style=\"fill:none;stroke-width:1;stroke-linecap:butt;stroke-linejoin:miter;stroke:rgb(20%,20%,20%);stroke-opacity:1;stroke-miterlimit:10;\" d=\"M 270.753906 479.363281 L 164.308594 384.609375 \"/>\n",
       "<path style=\"fill:none;stroke-width:1;stroke-linecap:butt;stroke-linejoin:miter;stroke:rgb(80%,80%,80%);stroke-opacity:1;stroke-miterlimit:10;\" d=\"M 228.109375 208.570313 L 178.019531 418.117188 \"/>\n",
       "<path style=\"fill:none;stroke-width:1;stroke-linecap:butt;stroke-linejoin:miter;stroke:rgb(80%,80%,80%);stroke-opacity:1;stroke-miterlimit:10;\" d=\"M 228.109375 208.570313 L 164.308594 384.609375 \"/>\n",
       "<path style=\"fill:none;stroke-width:1;stroke-linecap:butt;stroke-linejoin:miter;stroke:rgb(20%,20%,20%);stroke-opacity:1;stroke-miterlimit:10;\" d=\"M 178.019531 418.117188 L 164.308594 384.609375 \"/>\n",
       "<path style=\"fill-rule:nonzero;fill:rgb(0%,100%,0%);fill-opacity:1;stroke-width:1;stroke-linecap:butt;stroke-linejoin:miter;stroke:rgb(0%,0%,0%);stroke-opacity:1;stroke-miterlimit:10;\" d=\"M 386.65625 240.851563 C 386.65625 246.375 382.179688 250.851563 376.65625 250.851563 C 371.132813 250.851563 366.65625 246.375 366.65625 240.851563 C 366.65625 235.328125 371.132813 230.851563 376.65625 230.851563 C 382.179688 230.851563 386.65625 235.328125 386.65625 240.851563 \"/>\n",
       "<path style=\"fill-rule:nonzero;fill:rgb(0%,100%,0%);fill-opacity:1;stroke-width:1;stroke-linecap:butt;stroke-linejoin:miter;stroke:rgb(0%,0%,0%);stroke-opacity:1;stroke-miterlimit:10;\" d=\"M 369.886719 301.066406 C 369.886719 306.589844 365.410156 311.066406 359.886719 311.066406 C 354.363281 311.066406 349.886719 306.589844 349.886719 301.066406 C 349.886719 295.542969 354.363281 291.066406 359.886719 291.066406 C 365.410156 291.066406 369.886719 295.542969 369.886719 301.066406 \"/>\n",
       "<path style=\"fill-rule:nonzero;fill:rgb(0%,100%,0%);fill-opacity:1;stroke-width:1;stroke-linecap:butt;stroke-linejoin:miter;stroke:rgb(0%,0%,0%);stroke-opacity:1;stroke-miterlimit:10;\" d=\"M 270.886719 255.429688 C 270.886719 260.953125 266.410156 265.429688 260.886719 265.429688 C 255.363281 265.429688 250.886719 260.953125 250.886719 255.429688 C 250.886719 249.90625 255.363281 245.429688 260.886719 245.429688 C 266.410156 245.429688 270.886719 249.90625 270.886719 255.429688 \"/>\n",
       "<path style=\"fill-rule:nonzero;fill:rgb(0%,100%,0%);fill-opacity:1;stroke-width:1;stroke-linecap:butt;stroke-linejoin:miter;stroke:rgb(0%,0%,0%);stroke-opacity:1;stroke-miterlimit:10;\" d=\"M 338.773438 173.664063 C 338.773438 179.1875 334.296875 183.664063 328.773438 183.664063 C 323.25 183.664063 318.773438 179.1875 318.773438 173.664063 C 318.773438 168.140625 323.25 163.664063 328.773438 163.664063 C 334.296875 163.664063 338.773438 168.140625 338.773438 173.664063 \"/>\n",
       "<path style=\"fill-rule:nonzero;fill:rgb(100%,0%,0%);fill-opacity:1;stroke-width:1;stroke-linecap:butt;stroke-linejoin:miter;stroke:rgb(0%,0%,0%);stroke-opacity:1;stroke-miterlimit:10;\" d=\"M 517.070313 204.914063 C 517.070313 210.433594 512.589844 214.914063 507.070313 214.914063 C 501.546875 214.914063 497.070313 210.433594 497.070313 204.914063 C 497.070313 199.390625 501.546875 194.914063 507.070313 194.914063 C 512.589844 194.914063 517.070313 199.390625 517.070313 204.914063 \"/>\n",
       "<path style=\"fill-rule:nonzero;fill:rgb(100%,0%,0%);fill-opacity:1;stroke-width:1;stroke-linecap:butt;stroke-linejoin:miter;stroke:rgb(0%,0%,0%);stroke-opacity:1;stroke-miterlimit:10;\" d=\"M 470.523438 423.867188 C 470.523438 429.390625 466.046875 433.867188 460.523438 433.867188 C 455 433.867188 450.523438 429.390625 450.523438 423.867188 C 450.523438 418.347656 455 413.867188 460.523438 413.867188 C 466.046875 413.867188 470.523438 418.347656 470.523438 423.867188 \"/>\n",
       "<path style=\"fill-rule:nonzero;fill:rgb(100%,0%,0%);fill-opacity:1;stroke-width:1;stroke-linecap:butt;stroke-linejoin:miter;stroke:rgb(0%,0%,0%);stroke-opacity:1;stroke-miterlimit:10;\" d=\"M 509.789063 345.214844 C 509.789063 350.738281 505.3125 355.214844 499.789063 355.214844 C 494.265625 355.214844 489.789063 350.738281 489.789063 345.214844 C 489.789063 339.695313 494.265625 335.214844 499.789063 335.214844 C 505.3125 335.214844 509.789063 339.695313 509.789063 345.214844 \"/>\n",
       "<path style=\"fill-rule:nonzero;fill:rgb(0%,100%,0%);fill-opacity:1;stroke-width:1;stroke-linecap:butt;stroke-linejoin:miter;stroke:rgb(0%,0%,0%);stroke-opacity:1;stroke-miterlimit:10;\" d=\"M 324.332031 110.34375 C 324.332031 115.867188 319.855469 120.34375 314.332031 120.34375 C 308.808594 120.34375 304.332031 115.867188 304.332031 110.34375 C 304.332031 104.820313 308.808594 100.34375 314.332031 100.34375 C 319.855469 100.34375 324.332031 104.820313 324.332031 110.34375 \"/>\n",
       "<path style=\"fill-rule:nonzero;fill:rgb(100%,100%,0%);fill-opacity:1;stroke-width:1;stroke-linecap:butt;stroke-linejoin:miter;stroke:rgb(0%,0%,0%);stroke-opacity:1;stroke-miterlimit:10;\" d=\"M 291.164063 384.390625 C 291.164063 389.910156 286.6875 394.390625 281.164063 394.390625 C 275.640625 394.390625 271.164063 389.910156 271.164063 384.390625 C 271.164063 378.867188 275.640625 374.390625 281.164063 374.390625 C 286.6875 374.390625 291.164063 378.867188 291.164063 384.390625 \"/>\n",
       "<path style=\"fill-rule:nonzero;fill:rgb(0%,100%,0%);fill-opacity:1;stroke-width:1;stroke-linecap:butt;stroke-linejoin:miter;stroke:rgb(0%,0%,0%);stroke-opacity:1;stroke-miterlimit:10;\" d=\"M 171.941406 289.496094 C 171.941406 295.019531 167.464844 299.496094 161.941406 299.496094 C 156.417969 299.496094 151.941406 295.019531 151.941406 289.496094 C 151.941406 283.972656 156.417969 279.496094 161.941406 279.496094 C 167.464844 279.496094 171.941406 283.972656 171.941406 289.496094 \"/>\n",
       "<path style=\"fill-rule:nonzero;fill:rgb(100%,0%,0%);fill-opacity:1;stroke-width:1;stroke-linecap:butt;stroke-linejoin:miter;stroke:rgb(0%,0%,0%);stroke-opacity:1;stroke-miterlimit:10;\" d=\"M 488.503906 305.878906 C 488.503906 311.402344 484.027344 315.878906 478.503906 315.878906 C 472.980469 315.878906 468.503906 311.402344 468.503906 305.878906 C 468.503906 300.359375 472.980469 295.878906 478.503906 295.878906 C 484.027344 295.878906 488.503906 300.359375 488.503906 305.878906 \"/>\n",
       "<path style=\"fill-rule:nonzero;fill:rgb(0%,100%,0%);fill-opacity:1;stroke-width:1;stroke-linecap:butt;stroke-linejoin:miter;stroke:rgb(0%,0%,0%);stroke-opacity:1;stroke-miterlimit:10;\" d=\"M 447.234375 45.398438 C 447.234375 50.921875 442.753906 55.398438 437.234375 55.398438 C 431.710938 55.398438 427.234375 50.921875 427.234375 45.398438 C 427.234375 39.875 431.710938 35.398438 437.234375 35.398438 C 442.753906 35.398438 447.234375 39.875 447.234375 45.398438 \"/>\n",
       "<path style=\"fill-rule:nonzero;fill:rgb(0%,100%,0%);fill-opacity:1;stroke-width:1;stroke-linecap:butt;stroke-linejoin:miter;stroke:rgb(0%,0%,0%);stroke-opacity:1;stroke-miterlimit:10;\" d=\"M 386.789063 30.105469 C 386.789063 35.625 382.3125 40.105469 376.789063 40.105469 C 371.265625 40.105469 366.789063 35.625 366.789063 30.105469 C 366.789063 24.582031 371.265625 20.105469 376.789063 20.105469 C 382.3125 20.105469 386.789063 24.582031 386.789063 30.105469 \"/>\n",
       "<path style=\"fill-rule:nonzero;fill:rgb(0%,100%,0%);fill-opacity:1;stroke-width:1;stroke-linecap:butt;stroke-linejoin:miter;stroke:rgb(0%,0%,0%);stroke-opacity:1;stroke-miterlimit:10;\" d=\"M 301.828125 332.359375 C 301.828125 337.878906 297.351563 342.359375 291.828125 342.359375 C 286.304688 342.359375 281.828125 337.878906 281.828125 332.359375 C 281.828125 326.835938 286.304688 322.359375 291.828125 322.359375 C 297.351563 322.359375 301.828125 326.835938 301.828125 332.359375 \"/>\n",
       "<path style=\"fill-rule:nonzero;fill:rgb(100%,100%,0%);fill-opacity:1;stroke-width:1;stroke-linecap:butt;stroke-linejoin:miter;stroke:rgb(0%,0%,0%);stroke-opacity:1;stroke-miterlimit:10;\" d=\"M 134.554688 557.851563 C 134.554688 563.371094 130.078125 567.851563 124.554688 567.851563 C 119.03125 567.851563 114.554688 563.371094 114.554688 557.851563 C 114.554688 552.328125 119.03125 547.851563 124.554688 547.851563 C 130.078125 547.851563 134.554688 552.328125 134.554688 557.851563 \"/>\n",
       "<path style=\"fill-rule:nonzero;fill:rgb(100%,100%,0%);fill-opacity:1;stroke-width:1;stroke-linecap:butt;stroke-linejoin:miter;stroke:rgb(0%,0%,0%);stroke-opacity:1;stroke-miterlimit:10;\" d=\"M 217.152344 580 C 217.152344 585.523438 212.675781 590 207.152344 590 C 201.628906 590 197.152344 585.523438 197.152344 580 C 197.152344 574.476563 201.628906 570 207.152344 570 C 212.675781 570 217.152344 574.476563 217.152344 580 \"/>\n",
       "<path style=\"fill-rule:nonzero;fill:rgb(100%,0%,0%);fill-opacity:1;stroke-width:1;stroke-linecap:butt;stroke-linejoin:miter;stroke:rgb(0%,0%,0%);stroke-opacity:1;stroke-miterlimit:10;\" d=\"M 590 461.34375 C 590 466.867188 585.523438 471.34375 580 471.34375 C 574.476563 471.34375 570 466.867188 570 461.34375 C 570 455.820313 574.476563 451.34375 580 451.34375 C 585.523438 451.34375 590 455.820313 590 461.34375 \"/>\n",
       "<path style=\"fill-rule:nonzero;fill:rgb(0%,100%,0%);fill-opacity:1;stroke-width:1;stroke-linecap:butt;stroke-linejoin:miter;stroke:rgb(0%,0%,0%);stroke-opacity:1;stroke-miterlimit:10;\" d=\"M 446.078125 130.75 C 446.078125 136.273438 441.597656 140.75 436.078125 140.75 C 430.554688 140.75 426.078125 136.273438 426.078125 130.75 C 426.078125 125.226563 430.554688 120.75 436.078125 120.75 C 441.597656 120.75 446.078125 125.226563 446.078125 130.75 \"/>\n",
       "<path style=\"fill-rule:nonzero;fill:rgb(100%,100%,0%);fill-opacity:1;stroke-width:1;stroke-linecap:butt;stroke-linejoin:miter;stroke:rgb(0%,0%,0%);stroke-opacity:1;stroke-miterlimit:10;\" d=\"M 78.40625 453.726563 C 78.40625 459.25 73.929688 463.726563 68.40625 463.726563 C 62.886719 463.726563 58.40625 459.25 58.40625 453.726563 C 58.40625 448.203125 62.886719 443.726563 68.40625 443.726563 C 73.929688 443.726563 78.40625 448.203125 78.40625 453.726563 \"/>\n",
       "<path style=\"fill-rule:nonzero;fill:rgb(0%,100%,0%);fill-opacity:1;stroke-width:1;stroke-linecap:butt;stroke-linejoin:miter;stroke:rgb(0%,0%,0%);stroke-opacity:1;stroke-miterlimit:10;\" d=\"M 328.253906 421.589844 C 328.253906 427.113281 323.777344 431.589844 318.253906 431.589844 C 312.734375 431.589844 308.253906 427.113281 308.253906 421.589844 C 308.253906 416.066406 312.734375 411.589844 318.253906 411.589844 C 323.777344 411.589844 328.253906 416.066406 328.253906 421.589844 \"/>\n",
       "<path style=\"fill-rule:nonzero;fill:rgb(100%,100%,0%);fill-opacity:1;stroke-width:1;stroke-linecap:butt;stroke-linejoin:miter;stroke:rgb(0%,0%,0%);stroke-opacity:1;stroke-miterlimit:10;\" d=\"M 98.777344 517.675781 C 98.777344 523.199219 94.300781 527.675781 88.777344 527.675781 C 83.253906 527.675781 78.777344 523.199219 78.777344 517.675781 C 78.777344 512.15625 83.253906 507.675781 88.777344 507.675781 C 94.300781 507.675781 98.777344 512.15625 98.777344 517.675781 \"/>\n",
       "<path style=\"fill-rule:nonzero;fill:rgb(0%,100%,0%);fill-opacity:1;stroke-width:1;stroke-linecap:butt;stroke-linejoin:miter;stroke:rgb(0%,0%,0%);stroke-opacity:1;stroke-miterlimit:10;\" d=\"M 469.46875 206.269531 C 469.46875 211.789063 464.988281 216.269531 459.46875 216.269531 C 453.945313 216.269531 449.46875 211.789063 449.46875 206.269531 C 449.46875 200.746094 453.945313 196.269531 459.46875 196.269531 C 464.988281 196.269531 469.46875 200.746094 469.46875 206.269531 \"/>\n",
       "<path style=\"fill-rule:nonzero;fill:rgb(100%,100%,0%);fill-opacity:1;stroke-width:1;stroke-linecap:butt;stroke-linejoin:miter;stroke:rgb(0%,0%,0%);stroke-opacity:1;stroke-miterlimit:10;\" d=\"M 175.53125 578.605469 C 175.53125 584.128906 171.054688 588.605469 165.53125 588.605469 C 160.007813 588.605469 155.53125 584.128906 155.53125 578.605469 C 155.53125 573.082031 160.007813 568.605469 165.53125 568.605469 C 171.054688 568.605469 175.53125 573.082031 175.53125 578.605469 \"/>\n",
       "<path style=\"fill-rule:nonzero;fill:rgb(0%,0%,100%);fill-opacity:1;stroke-width:1;stroke-linecap:butt;stroke-linejoin:miter;stroke:rgb(0%,0%,0%);stroke-opacity:1;stroke-miterlimit:10;\" d=\"M 81.816406 247.550781 C 81.816406 253.074219 77.339844 257.550781 71.816406 257.550781 C 66.296875 257.550781 61.816406 253.074219 61.816406 247.550781 C 61.816406 242.027344 66.296875 237.550781 71.816406 237.550781 C 77.339844 237.550781 81.816406 242.027344 81.816406 247.550781 \"/>\n",
       "<path style=\"fill-rule:nonzero;fill:rgb(0%,0%,100%);fill-opacity:1;stroke-width:1;stroke-linecap:butt;stroke-linejoin:miter;stroke:rgb(0%,0%,0%);stroke-opacity:1;stroke-miterlimit:10;\" d=\"M 193.476563 20 C 193.476563 25.523438 189 30 183.476563 30 C 177.953125 30 173.476563 25.523438 173.476563 20 C 173.476563 14.476563 177.953125 10 183.476563 10 C 189 10 193.476563 14.476563 193.476563 20 \"/>\n",
       "<path style=\"fill-rule:nonzero;fill:rgb(0%,0%,100%);fill-opacity:1;stroke-width:1;stroke-linecap:butt;stroke-linejoin:miter;stroke:rgb(0%,0%,0%);stroke-opacity:1;stroke-miterlimit:10;\" d=\"M 124.179688 68.988281 C 124.179688 74.511719 119.703125 78.988281 114.179688 78.988281 C 108.660156 78.988281 104.179688 74.511719 104.179688 68.988281 C 104.179688 63.46875 108.660156 58.988281 114.179688 58.988281 C 119.703125 58.988281 124.179688 63.46875 124.179688 68.988281 \"/>\n",
       "<path style=\"fill-rule:nonzero;fill:rgb(100%,100%,0%);fill-opacity:1;stroke-width:1;stroke-linecap:butt;stroke-linejoin:miter;stroke:rgb(0%,0%,0%);stroke-opacity:1;stroke-miterlimit:10;\" d=\"M 30 417.34375 C 30 422.867188 25.523438 427.34375 20 427.34375 C 14.476563 427.34375 10 422.867188 10 417.34375 C 10 411.820313 14.476563 407.34375 20 407.34375 C 25.523438 407.34375 30 411.820313 30 417.34375 \"/>\n",
       "<path style=\"fill-rule:nonzero;fill:rgb(0%,0%,100%);fill-opacity:1;stroke-width:1;stroke-linecap:butt;stroke-linejoin:miter;stroke:rgb(0%,0%,0%);stroke-opacity:1;stroke-miterlimit:10;\" d=\"M 165.023438 180.765625 C 165.023438 186.285156 160.542969 190.765625 155.023438 190.765625 C 149.5 190.765625 145.023438 186.285156 145.023438 180.765625 C 145.023438 175.242188 149.5 170.765625 155.023438 170.765625 C 160.542969 170.765625 165.023438 175.242188 165.023438 180.765625 \"/>\n",
       "<path style=\"fill-rule:nonzero;fill:rgb(0%,0%,100%);fill-opacity:1;stroke-width:1;stroke-linecap:butt;stroke-linejoin:miter;stroke:rgb(0%,0%,0%);stroke-opacity:1;stroke-miterlimit:10;\" d=\"M 160.902344 233.898438 C 160.902344 239.421875 156.425781 243.898438 150.902344 243.898438 C 145.378906 243.898438 140.902344 239.421875 140.902344 233.898438 C 140.902344 228.375 145.378906 223.898438 150.902344 223.898438 C 156.425781 223.898438 160.902344 228.375 160.902344 233.898438 \"/>\n",
       "<path style=\"fill-rule:nonzero;fill:rgb(100%,100%,0%);fill-opacity:1;stroke-width:1;stroke-linecap:butt;stroke-linejoin:miter;stroke:rgb(0%,0%,0%);stroke-opacity:1;stroke-miterlimit:10;\" d=\"M 64.464844 342.089844 C 64.464844 347.609375 59.988281 352.089844 54.464844 352.089844 C 48.941406 352.089844 44.464844 347.609375 44.464844 342.089844 C 44.464844 336.566406 48.941406 332.089844 54.464844 332.089844 C 59.988281 332.089844 64.464844 336.566406 64.464844 342.089844 \"/>\n",
       "<path style=\"fill-rule:nonzero;fill:rgb(100%,100%,0%);fill-opacity:1;stroke-width:1;stroke-linecap:butt;stroke-linejoin:miter;stroke:rgb(0%,0%,0%);stroke-opacity:1;stroke-miterlimit:10;\" d=\"M 280.753906 479.363281 C 280.753906 484.886719 276.277344 489.363281 270.753906 489.363281 C 265.230469 489.363281 260.753906 484.886719 260.753906 479.363281 C 260.753906 473.839844 265.230469 469.363281 270.753906 469.363281 C 276.277344 469.363281 280.753906 473.839844 280.753906 479.363281 \"/>\n",
       "<path style=\"fill-rule:nonzero;fill:rgb(0%,0%,100%);fill-opacity:1;stroke-width:1;stroke-linecap:butt;stroke-linejoin:miter;stroke:rgb(0%,0%,0%);stroke-opacity:1;stroke-miterlimit:10;\" d=\"M 238.109375 208.570313 C 238.109375 214.09375 233.632813 218.570313 228.109375 218.570313 C 222.585938 218.570313 218.109375 214.09375 218.109375 208.570313 C 218.109375 203.046875 222.585938 198.570313 228.109375 198.570313 C 233.632813 198.570313 238.109375 203.046875 238.109375 208.570313 \"/>\n",
       "<path style=\"fill-rule:nonzero;fill:rgb(100%,100%,0%);fill-opacity:1;stroke-width:1;stroke-linecap:butt;stroke-linejoin:miter;stroke:rgb(0%,0%,0%);stroke-opacity:1;stroke-miterlimit:10;\" d=\"M 188.019531 418.117188 C 188.019531 423.640625 183.542969 428.117188 178.019531 428.117188 C 172.5 428.117188 168.019531 423.640625 168.019531 418.117188 C 168.019531 412.597656 172.5 408.117188 178.019531 408.117188 C 183.542969 408.117188 188.019531 412.597656 188.019531 418.117188 \"/>\n",
       "<path style=\"fill-rule:nonzero;fill:rgb(100%,100%,0%);fill-opacity:1;stroke-width:1;stroke-linecap:butt;stroke-linejoin:miter;stroke:rgb(0%,0%,0%);stroke-opacity:1;stroke-miterlimit:10;\" d=\"M 174.308594 384.609375 C 174.308594 390.132813 169.832031 394.609375 164.308594 394.609375 C 158.785156 394.609375 154.308594 390.132813 154.308594 384.609375 C 154.308594 379.085938 158.785156 374.609375 164.308594 374.609375 C 169.832031 374.609375 174.308594 379.085938 174.308594 384.609375 \"/>\n",
       "</g>\n",
       "</svg>\n"
      ],
      "text/plain": [
       "<igraph.drawing.Plot at 0x578f470>"
      ]
     },
     "execution_count": 3,
     "metadata": {},
     "output_type": "execute_result"
    }
   ],
   "source": [
    "ig.plot(G.community_multilevel())"
   ]
  },
  {
   "cell_type": "code",
   "execution_count": null,
   "metadata": {
    "collapsed": true
   },
   "outputs": [],
   "source": []
  }
 ],
 "metadata": {
  "kernelspec": {
   "display_name": "Python 3",
   "language": "python",
   "name": "python3"
  },
  "language_info": {
   "codemirror_mode": {
    "name": "ipython",
    "version": 3
   },
   "file_extension": ".py",
   "mimetype": "text/x-python",
   "name": "python",
   "nbconvert_exporter": "python",
   "pygments_lexer": "ipython3",
   "version": "3.6.3"
  }
 },
 "nbformat": 4,
 "nbformat_minor": 2
}
